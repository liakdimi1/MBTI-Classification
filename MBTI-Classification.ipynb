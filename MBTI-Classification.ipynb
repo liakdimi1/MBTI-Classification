{
  "cells": [
    {
      "cell_type": "code",
      "execution_count": null,
      "metadata": {
        "colab": {
          "base_uri": "https://localhost:8080/"
        },
        "id": "AeCZV1cVE-Xs",
        "outputId": "30767aaa-b1d3-4374-b745-2c0b8d96fa33"
      },
      "outputs": [
        {
          "output_type": "stream",
          "name": "stdout",
          "text": [
            "Collecting opendatasets\n",
            "  Downloading opendatasets-0.1.22-py3-none-any.whl (15 kB)\n",
            "Requirement already satisfied: tqdm in /usr/local/lib/python3.10/dist-packages (from opendatasets) (4.65.0)\n",
            "Requirement already satisfied: kaggle in /usr/local/lib/python3.10/dist-packages (from opendatasets) (1.5.13)\n",
            "Requirement already satisfied: click in /usr/local/lib/python3.10/dist-packages (from opendatasets) (8.1.3)\n",
            "Requirement already satisfied: six>=1.10 in /usr/local/lib/python3.10/dist-packages (from kaggle->opendatasets) (1.16.0)\n",
            "Requirement already satisfied: certifi in /usr/local/lib/python3.10/dist-packages (from kaggle->opendatasets) (2023.5.7)\n",
            "Requirement already satisfied: python-dateutil in /usr/local/lib/python3.10/dist-packages (from kaggle->opendatasets) (2.8.2)\n",
            "Requirement already satisfied: requests in /usr/local/lib/python3.10/dist-packages (from kaggle->opendatasets) (2.27.1)\n",
            "Requirement already satisfied: python-slugify in /usr/local/lib/python3.10/dist-packages (from kaggle->opendatasets) (8.0.1)\n",
            "Requirement already satisfied: urllib3 in /usr/local/lib/python3.10/dist-packages (from kaggle->opendatasets) (1.26.16)\n",
            "Requirement already satisfied: text-unidecode>=1.3 in /usr/local/lib/python3.10/dist-packages (from python-slugify->kaggle->opendatasets) (1.3)\n",
            "Requirement already satisfied: charset-normalizer~=2.0.0 in /usr/local/lib/python3.10/dist-packages (from requests->kaggle->opendatasets) (2.0.12)\n",
            "Requirement already satisfied: idna<4,>=2.5 in /usr/local/lib/python3.10/dist-packages (from requests->kaggle->opendatasets) (3.4)\n",
            "Installing collected packages: opendatasets\n",
            "Successfully installed opendatasets-0.1.22\n",
            "Requirement already satisfied: pandas in /usr/local/lib/python3.10/dist-packages (1.5.3)\n",
            "Requirement already satisfied: python-dateutil>=2.8.1 in /usr/local/lib/python3.10/dist-packages (from pandas) (2.8.2)\n",
            "Requirement already satisfied: pytz>=2020.1 in /usr/local/lib/python3.10/dist-packages (from pandas) (2022.7.1)\n",
            "Requirement already satisfied: numpy>=1.21.0 in /usr/local/lib/python3.10/dist-packages (from pandas) (1.22.4)\n",
            "Requirement already satisfied: six>=1.5 in /usr/local/lib/python3.10/dist-packages (from python-dateutil>=2.8.1->pandas) (1.16.0)\n"
          ]
        }
      ],
      "source": [
        "!pip install opendatasets\n",
        "!pip install pandas"
      ]
    },
    {
      "cell_type": "code",
      "execution_count": null,
      "metadata": {
        "colab": {
          "base_uri": "https://localhost:8080/"
        },
        "id": "82RECrDhFVlS",
        "outputId": "26df40a1-3c9f-4c5e-c294-f74573f4ecd7"
      },
      "outputs": [
        {
          "output_type": "stream",
          "name": "stdout",
          "text": [
            "Please provide your Kaggle credentials to download this dataset. Learn more: http://bit.ly/kaggle-creds\n",
            "Your Kaggle username: dimitriosliakos\n",
            "Your Kaggle Key: ··········\n",
            "Downloading mbti-type.zip to ./mbti-type\n"
          ]
        },
        {
          "output_type": "stream",
          "name": "stderr",
          "text": [
            "100%|██████████| 24.4M/24.4M [00:00<00:00, 125MB/s] \n"
          ]
        },
        {
          "output_type": "stream",
          "name": "stdout",
          "text": [
            "\n"
          ]
        }
      ],
      "source": [
        "import opendatasets as od\n",
        "od.download('https://www.kaggle.com/datasets/datasnaek/mbti-type')"
      ]
    },
    {
      "cell_type": "code",
      "execution_count": null,
      "metadata": {
        "colab": {
          "base_uri": "https://localhost:8080/"
        },
        "id": "Ani8TXjzGA9-",
        "outputId": "8fbd818b-be29-4170-c928-5852bb77391e"
      },
      "outputs": [
        {
          "output_type": "stream",
          "name": "stdout",
          "text": [
            "Collecting transformers\n",
            "  Downloading transformers-4.30.2-py3-none-any.whl (7.2 MB)\n",
            "\u001b[2K     \u001b[90m━━━━━━━━━━━━━━━━━━━━━━━━━━━━━━━━━━━━━━━━\u001b[0m \u001b[32m7.2/7.2 MB\u001b[0m \u001b[31m57.1 MB/s\u001b[0m eta \u001b[36m0:00:00\u001b[0m\n",
            "\u001b[?25hRequirement already satisfied: filelock in /usr/local/lib/python3.10/dist-packages (from transformers) (3.12.2)\n",
            "Collecting huggingface-hub<1.0,>=0.14.1 (from transformers)\n",
            "  Downloading huggingface_hub-0.15.1-py3-none-any.whl (236 kB)\n",
            "\u001b[2K     \u001b[90m━━━━━━━━━━━━━━━━━━━━━━━━━━━━━━━━━━━━━━\u001b[0m \u001b[32m236.8/236.8 kB\u001b[0m \u001b[31m26.5 MB/s\u001b[0m eta \u001b[36m0:00:00\u001b[0m\n",
            "\u001b[?25hRequirement already satisfied: numpy>=1.17 in /usr/local/lib/python3.10/dist-packages (from transformers) (1.22.4)\n",
            "Requirement already satisfied: packaging>=20.0 in /usr/local/lib/python3.10/dist-packages (from transformers) (23.1)\n",
            "Requirement already satisfied: pyyaml>=5.1 in /usr/local/lib/python3.10/dist-packages (from transformers) (6.0)\n",
            "Requirement already satisfied: regex!=2019.12.17 in /usr/local/lib/python3.10/dist-packages (from transformers) (2022.10.31)\n",
            "Requirement already satisfied: requests in /usr/local/lib/python3.10/dist-packages (from transformers) (2.27.1)\n",
            "Collecting tokenizers!=0.11.3,<0.14,>=0.11.1 (from transformers)\n",
            "  Downloading tokenizers-0.13.3-cp310-cp310-manylinux_2_17_x86_64.manylinux2014_x86_64.whl (7.8 MB)\n",
            "\u001b[2K     \u001b[90m━━━━━━━━━━━━━━━━━━━━━━━━━━━━━━━━━━━━━━━━\u001b[0m \u001b[32m7.8/7.8 MB\u001b[0m \u001b[31m103.5 MB/s\u001b[0m eta \u001b[36m0:00:00\u001b[0m\n",
            "\u001b[?25hCollecting safetensors>=0.3.1 (from transformers)\n",
            "  Downloading safetensors-0.3.1-cp310-cp310-manylinux_2_17_x86_64.manylinux2014_x86_64.whl (1.3 MB)\n",
            "\u001b[2K     \u001b[90m━━━━━━━━━━━━━━━━━━━━━━━━━━━━━━━━━━━━━━━━\u001b[0m \u001b[32m1.3/1.3 MB\u001b[0m \u001b[31m77.7 MB/s\u001b[0m eta \u001b[36m0:00:00\u001b[0m\n",
            "\u001b[?25hRequirement already satisfied: tqdm>=4.27 in /usr/local/lib/python3.10/dist-packages (from transformers) (4.65.0)\n",
            "Requirement already satisfied: fsspec in /usr/local/lib/python3.10/dist-packages (from huggingface-hub<1.0,>=0.14.1->transformers) (2023.6.0)\n",
            "Requirement already satisfied: typing-extensions>=3.7.4.3 in /usr/local/lib/python3.10/dist-packages (from huggingface-hub<1.0,>=0.14.1->transformers) (4.6.3)\n",
            "Requirement already satisfied: urllib3<1.27,>=1.21.1 in /usr/local/lib/python3.10/dist-packages (from requests->transformers) (1.26.16)\n",
            "Requirement already satisfied: certifi>=2017.4.17 in /usr/local/lib/python3.10/dist-packages (from requests->transformers) (2023.5.7)\n",
            "Requirement already satisfied: charset-normalizer~=2.0.0 in /usr/local/lib/python3.10/dist-packages (from requests->transformers) (2.0.12)\n",
            "Requirement already satisfied: idna<4,>=2.5 in /usr/local/lib/python3.10/dist-packages (from requests->transformers) (3.4)\n",
            "Installing collected packages: tokenizers, safetensors, huggingface-hub, transformers\n",
            "Successfully installed huggingface-hub-0.15.1 safetensors-0.3.1 tokenizers-0.13.3 transformers-4.30.2\n"
          ]
        }
      ],
      "source": [
        "!pip3 install transformers"
      ]
    },
    {
      "cell_type": "markdown",
      "metadata": {
        "id": "Ck3xQIn8Oh-u"
      },
      "source": [
        "## Importing the dataset and splitting the data"
      ]
    },
    {
      "cell_type": "code",
      "execution_count": null,
      "metadata": {
        "id": "tLF12zwmzd0j"
      },
      "outputs": [],
      "source": [
        "import pandas as pd\n",
        "import os\n",
        "from sklearn.model_selection import train_test_split\n",
        "\n",
        "# reading the dataset\n",
        "df = pd.read_csv(os.path.join(\"/content/mbti-type/mbti_1.csv\"))\n",
        "\n",
        "\n",
        "# splitting data into training and holdout dataset\n",
        "personality_data, personality_val = train_test_split(\n",
        "    df, random_state=42, test_size=0.01, stratify=df[\"type\"]\n",
        ")\n"
      ]
    },
    {
      "cell_type": "markdown",
      "metadata": {
        "id": "fpFBLAJTbUzZ"
      },
      "source": [
        "## To handle the class imbalance more effectively, we optimize the conversion of the 16 classes into 4 more balanced classes."
      ]
    },
    {
      "cell_type": "code",
      "execution_count": null,
      "metadata": {
        "colab": {
          "base_uri": "https://localhost:8080/",
          "height": 206
        },
        "id": "RlK0zxXx0cB-",
        "outputId": "073f0e9e-d3d8-470d-fde5-629a245327c5"
      },
      "outputs": [
        {
          "output_type": "execute_result",
          "data": {
            "text/plain": [
              "      type  is_Extrovert  is_Sensing  is_Thinking  is_Judging  \\\n",
              "7888  INFJ             0           0            0           1   \n",
              "5944  INFJ             0           0            0           1   \n",
              "128   INFJ             0           0            0           1   \n",
              "6721  ENFJ             1           0            0           1   \n",
              "3565  INTP             0           0            1           0   \n",
              "\n",
              "                                                  posts  \n",
              "7888  'When asked of the things you wish you did ear...  \n",
              "5944  'I love both and they are equally important to...  \n",
              "128   Really? You think implying that everyone who i...  \n",
              "6721  'Love is a crazy thing.   Se is our best form ...  \n",
              "3565  'I am a physics undergrad with a computation e...  "
            ],
            "text/html": [
              "\n",
              "  <div id=\"df-5f6ef095-6289-4b95-a659-a54a2ab07e1d\">\n",
              "    <div class=\"colab-df-container\">\n",
              "      <div>\n",
              "<style scoped>\n",
              "    .dataframe tbody tr th:only-of-type {\n",
              "        vertical-align: middle;\n",
              "    }\n",
              "\n",
              "    .dataframe tbody tr th {\n",
              "        vertical-align: top;\n",
              "    }\n",
              "\n",
              "    .dataframe thead th {\n",
              "        text-align: right;\n",
              "    }\n",
              "</style>\n",
              "<table border=\"1\" class=\"dataframe\">\n",
              "  <thead>\n",
              "    <tr style=\"text-align: right;\">\n",
              "      <th></th>\n",
              "      <th>type</th>\n",
              "      <th>is_Extrovert</th>\n",
              "      <th>is_Sensing</th>\n",
              "      <th>is_Thinking</th>\n",
              "      <th>is_Judging</th>\n",
              "      <th>posts</th>\n",
              "    </tr>\n",
              "  </thead>\n",
              "  <tbody>\n",
              "    <tr>\n",
              "      <th>7888</th>\n",
              "      <td>INFJ</td>\n",
              "      <td>0</td>\n",
              "      <td>0</td>\n",
              "      <td>0</td>\n",
              "      <td>1</td>\n",
              "      <td>'When asked of the things you wish you did ear...</td>\n",
              "    </tr>\n",
              "    <tr>\n",
              "      <th>5944</th>\n",
              "      <td>INFJ</td>\n",
              "      <td>0</td>\n",
              "      <td>0</td>\n",
              "      <td>0</td>\n",
              "      <td>1</td>\n",
              "      <td>'I love both and they are equally important to...</td>\n",
              "    </tr>\n",
              "    <tr>\n",
              "      <th>128</th>\n",
              "      <td>INFJ</td>\n",
              "      <td>0</td>\n",
              "      <td>0</td>\n",
              "      <td>0</td>\n",
              "      <td>1</td>\n",
              "      <td>Really? You think implying that everyone who i...</td>\n",
              "    </tr>\n",
              "    <tr>\n",
              "      <th>6721</th>\n",
              "      <td>ENFJ</td>\n",
              "      <td>1</td>\n",
              "      <td>0</td>\n",
              "      <td>0</td>\n",
              "      <td>1</td>\n",
              "      <td>'Love is a crazy thing.   Se is our best form ...</td>\n",
              "    </tr>\n",
              "    <tr>\n",
              "      <th>3565</th>\n",
              "      <td>INTP</td>\n",
              "      <td>0</td>\n",
              "      <td>0</td>\n",
              "      <td>1</td>\n",
              "      <td>0</td>\n",
              "      <td>'I am a physics undergrad with a computation e...</td>\n",
              "    </tr>\n",
              "  </tbody>\n",
              "</table>\n",
              "</div>\n",
              "      <button class=\"colab-df-convert\" onclick=\"convertToInteractive('df-5f6ef095-6289-4b95-a659-a54a2ab07e1d')\"\n",
              "              title=\"Convert this dataframe to an interactive table.\"\n",
              "              style=\"display:none;\">\n",
              "        \n",
              "  <svg xmlns=\"http://www.w3.org/2000/svg\" height=\"24px\"viewBox=\"0 0 24 24\"\n",
              "       width=\"24px\">\n",
              "    <path d=\"M0 0h24v24H0V0z\" fill=\"none\"/>\n",
              "    <path d=\"M18.56 5.44l.94 2.06.94-2.06 2.06-.94-2.06-.94-.94-2.06-.94 2.06-2.06.94zm-11 1L8.5 8.5l.94-2.06 2.06-.94-2.06-.94L8.5 2.5l-.94 2.06-2.06.94zm10 10l.94 2.06.94-2.06 2.06-.94-2.06-.94-.94-2.06-.94 2.06-2.06.94z\"/><path d=\"M17.41 7.96l-1.37-1.37c-.4-.4-.92-.59-1.43-.59-.52 0-1.04.2-1.43.59L10.3 9.45l-7.72 7.72c-.78.78-.78 2.05 0 2.83L4 21.41c.39.39.9.59 1.41.59.51 0 1.02-.2 1.41-.59l7.78-7.78 2.81-2.81c.8-.78.8-2.07 0-2.86zM5.41 20L4 18.59l7.72-7.72 1.47 1.35L5.41 20z\"/>\n",
              "  </svg>\n",
              "      </button>\n",
              "      \n",
              "  <style>\n",
              "    .colab-df-container {\n",
              "      display:flex;\n",
              "      flex-wrap:wrap;\n",
              "      gap: 12px;\n",
              "    }\n",
              "\n",
              "    .colab-df-convert {\n",
              "      background-color: #E8F0FE;\n",
              "      border: none;\n",
              "      border-radius: 50%;\n",
              "      cursor: pointer;\n",
              "      display: none;\n",
              "      fill: #1967D2;\n",
              "      height: 32px;\n",
              "      padding: 0 0 0 0;\n",
              "      width: 32px;\n",
              "    }\n",
              "\n",
              "    .colab-df-convert:hover {\n",
              "      background-color: #E2EBFA;\n",
              "      box-shadow: 0px 1px 2px rgba(60, 64, 67, 0.3), 0px 1px 3px 1px rgba(60, 64, 67, 0.15);\n",
              "      fill: #174EA6;\n",
              "    }\n",
              "\n",
              "    [theme=dark] .colab-df-convert {\n",
              "      background-color: #3B4455;\n",
              "      fill: #D2E3FC;\n",
              "    }\n",
              "\n",
              "    [theme=dark] .colab-df-convert:hover {\n",
              "      background-color: #434B5C;\n",
              "      box-shadow: 0px 1px 3px 1px rgba(0, 0, 0, 0.15);\n",
              "      filter: drop-shadow(0px 1px 2px rgba(0, 0, 0, 0.3));\n",
              "      fill: #FFFFFF;\n",
              "    }\n",
              "  </style>\n",
              "\n",
              "      <script>\n",
              "        const buttonEl =\n",
              "          document.querySelector('#df-5f6ef095-6289-4b95-a659-a54a2ab07e1d button.colab-df-convert');\n",
              "        buttonEl.style.display =\n",
              "          google.colab.kernel.accessAllowed ? 'block' : 'none';\n",
              "\n",
              "        async function convertToInteractive(key) {\n",
              "          const element = document.querySelector('#df-5f6ef095-6289-4b95-a659-a54a2ab07e1d');\n",
              "          const dataTable =\n",
              "            await google.colab.kernel.invokeFunction('convertToInteractive',\n",
              "                                                     [key], {});\n",
              "          if (!dataTable) return;\n",
              "\n",
              "          const docLinkHtml = 'Like what you see? Visit the ' +\n",
              "            '<a target=\"_blank\" href=https://colab.research.google.com/notebooks/data_table.ipynb>data table notebook</a>'\n",
              "            + ' to learn more about interactive tables.';\n",
              "          element.innerHTML = '';\n",
              "          dataTable['output_type'] = 'display_data';\n",
              "          await google.colab.output.renderOutput(dataTable, element);\n",
              "          const docLink = document.createElement('div');\n",
              "          docLink.innerHTML = docLinkHtml;\n",
              "          element.appendChild(docLink);\n",
              "        }\n",
              "      </script>\n",
              "    </div>\n",
              "  </div>\n",
              "  "
            ]
          },
          "metadata": {},
          "execution_count": 5
        }
      ],
      "source": [
        "personality_data[\"is_Extrovert\"] = (personality_data[\"type\"].str[0] == \"E\").astype(int)\n",
        "personality_data[\"is_Sensing\"] = (personality_data[\"type\"].str[1] == \"S\").astype(int)\n",
        "personality_data[\"is_Thinking\"] = (personality_data[\"type\"].str[2] == \"T\").astype(int)\n",
        "personality_data[\"is_Judging\"] = (personality_data[\"type\"].str[3] == \"J\").astype(int)\n",
        "\n",
        "personality_data = personality_data[[\"type\", \"is_Extrovert\", \"is_Sensing\", \"is_Thinking\", \"is_Judging\", \"posts\"]]\n",
        "personality_data.head()\n",
        "\n"
      ]
    },
    {
      "cell_type": "markdown",
      "metadata": {
        "id": "3X7wf4qtcDjG"
      },
      "source": [
        "## Class Distribution Analysis for Balanced Classes"
      ]
    },
    {
      "cell_type": "code",
      "execution_count": null,
      "metadata": {
        "colab": {
          "base_uri": "https://localhost:8080/",
          "height": 564
        },
        "id": "iswtroqe0j8c",
        "outputId": "8b0bfe76-1258-4d8f-e859-49e430db6c15"
      },
      "outputs": [
        {
          "output_type": "display_data",
          "data": {
            "text/plain": [
              "<Figure size 1000x600 with 1 Axes>"
            ],
            "image/png": "[encoded data removed]"
          },
          "metadata": {}
        }
      ],
      "source": [
        "import matplotlib.pyplot as plt\n",
        "\n",
        "class_counts = personality_data['type'].value_counts()\n",
        "\n",
        "\n",
        "plt.figure(figsize=(10, 6))\n",
        "class_counts.sort_values().plot(kind='barh')\n",
        "plt.title('Class Distribution')\n",
        "plt.xlabel('Count')\n",
        "plt.ylabel('Personality Type')\n",
        "plt.show()\n"
      ]
    },
    {
      "cell_type": "markdown",
      "metadata": {
        "id": "1t1_cpXo0oBK"
      },
      "source": [
        "## Checking for the presence of correlations"
      ]
    },
    {
      "cell_type": "code",
      "execution_count": null,
      "metadata": {
        "colab": {
          "base_uri": "https://localhost:8080/",
          "height": 754
        },
        "id": "A6xdd3Rs0qlu",
        "outputId": "78e2aeeb-4113-4559-97bb-0c3b8c2eb660"
      },
      "outputs": [
        {
          "output_type": "stream",
          "name": "stderr",
          "text": [
            "<ipython-input-7-c8ca6cc2ac94>:6: FutureWarning: The default value of numeric_only in DataFrame.corr is deprecated. In a future version, it will default to False. Select only valid columns or specify the value of numeric_only to silence this warning.\n",
            "  correlation_matrix = personality_data.corr()\n"
          ]
        },
        {
          "output_type": "display_data",
          "data": {
            "text/plain": [
              "<Figure size 1000x800 with 2 Axes>"
            ],
            "image/png": "[encoded data removed]"
          },
          "metadata": {}
        }
      ],
      "source": [
        "import pandas as pd\n",
        "import seaborn as sns\n",
        "import matplotlib.pyplot as plt\n",
        "\n",
        "# Assuming your dataset is stored in a pandas DataFrame called 'data'\n",
        "correlation_matrix = personality_data.corr()\n",
        "\n",
        "# Visualize the correlation matrix\n",
        "plt.figure(figsize=(10, 8))\n",
        "sns.heatmap(correlation_matrix, annot=True, cmap='coolwarm')\n",
        "plt.title('Correlation Matrix')\n",
        "plt.show()\n"
      ]
    },
    {
      "cell_type": "code",
      "execution_count": null,
      "metadata": {
        "id": "SR1qgFMw0pW-"
      },
      "outputs": [],
      "source": []
    },
    {
      "cell_type": "markdown",
      "metadata": {
        "id": "OWwBKPrl0w3E"
      },
      "source": [
        "# Feature Engineering - Data Cleaning and Sentiment Analysis"
      ]
    },
    {
      "cell_type": "markdown",
      "metadata": {
        "id": "IXophU7c0yym"
      },
      "source": [
        "## Data Cleaning"
      ]
    },
    {
      "cell_type": "code",
      "execution_count": null,
      "metadata": {
        "colab": {
          "base_uri": "https://localhost:8080/"
        },
        "id": "p0jmwZSU02bc",
        "outputId": "8a2a6ffe-e1ca-483e-8240-2b1dbc5c7e54"
      },
      "outputs": [
        {
          "output_type": "stream",
          "name": "stderr",
          "text": [
            "[nltk_data] Downloading package stopwords to /root/nltk_data...\n",
            "[nltk_data]   Unzipping corpora/stopwords.zip.\n",
            "[nltk_data] Downloading package wordnet to /root/nltk_data...\n"
          ]
        }
      ],
      "source": [
        "import nltk\n",
        "from nltk.corpus import stopwords\n",
        "from nltk.stem import WordNetLemmatizer\n",
        "import string\n",
        "import re\n",
        "\n",
        "# Download required resources\n",
        "nltk.download('stopwords')\n",
        "nltk.download('wordnet')\n",
        "\n",
        "# Define stopwords and lemmatizer\n",
        "stopwords = set(stopwords.words('english'))\n",
        "lemmatizer = WordNetLemmatizer()\n",
        "\n",
        "# Function to clean and preprocess text\n",
        "def clean_text(text):\n",
        "    # Remove links\n",
        "    text = re.sub(r'http\\S+|https\\S+', '', text)\n",
        "\n",
        "    # Remove punctuation\n",
        "    text = text.translate(str.maketrans('', '', string.punctuation))\n",
        "\n",
        "    # Convert text to lowercase\n",
        "    text = text.lower()\n",
        "\n",
        "    # Tokenize the text into individual words\n",
        "    words = text.split()\n",
        "\n",
        "    # Remove stopwords and perform lemmatization\n",
        "    cleaned_words = [lemmatizer.lemmatize(word) for word in words if word not in stopwords]\n",
        "\n",
        "    # Join the cleaned words back into a single string\n",
        "    cleaned_text = ' '.join(cleaned_words)\n",
        "\n",
        "    return cleaned_text\n",
        "\n",
        "# Apply the clean_text function to the 'posts' column\n",
        "personality_data['cleaned_posts'] = personality_data['posts'].apply(clean_text)\n"
      ]
    },
    {
      "cell_type": "markdown",
      "metadata": {
        "id": "Jm4a_58SA_r3"
      },
      "source": [
        "# Sentiments Analysis Score"
      ]
    },
    {
      "cell_type": "code",
      "execution_count": null,
      "metadata": {
        "colab": {
          "base_uri": "https://localhost:8080/"
        },
        "id": "C1r9sqy_BMjK",
        "outputId": "5e15ad5f-79b1-4ad6-9b30-21976898bd35"
      },
      "outputs": [
        {
          "output_type": "stream",
          "name": "stderr",
          "text": [
            "[nltk_data] Downloading package vader_lexicon to /root/nltk_data...\n",
            "Sentiment Analysis: 100%|██████████| 8588/8588 [01:49<00:00, 78.49it/s]\n"
          ]
        }
      ],
      "source": [
        "import nltk\n",
        "from nltk.sentiment import SentimentIntensityAnalyzer\n",
        "from tqdm import tqdm\n",
        "\n",
        "# Download the VADER lexicon for sentiment analysis\n",
        "nltk.download('vader_lexicon')\n",
        "\n",
        "# Create an instance of the SentimentIntensityAnalyzer\n",
        "analyzer = SentimentIntensityAnalyzer()\n",
        "\n",
        "# Perform sentiment analysis on each post with a progress bar\n",
        "sentiment_scores = []\n",
        "with tqdm(total=len(personality_data[\"cleaned_posts\"]), desc=\"Sentiment Analysis\") as pbar:\n",
        "    for post in personality_data[\"cleaned_posts\"]:\n",
        "        scores = analyzer.polarity_scores(post)\n",
        "        sentiment_scores.append(scores)\n",
        "        pbar.update(1)\n",
        "\n"
      ]
    },
    {
      "cell_type": "code",
      "execution_count": null,
      "metadata": {
        "colab": {
          "base_uri": "https://localhost:8080/"
        },
        "id": "f6VFmPePD-bA",
        "outputId": "623d7c1b-fc5d-40e5-ff7d-3a2ea915e43c"
      },
      "outputs": [
        {
          "output_type": "stream",
          "name": "stderr",
          "text": [
            "Sentiment Analysis: 100%|██████████| 8588/8588 [01:46<00:00, 80.80it/s]\n"
          ]
        }
      ],
      "source": [
        "from tqdm import tqdm\n",
        "\n",
        "# Create empty lists for sentiment scores\n",
        "compound_sent = []\n",
        "positive_sent = []\n",
        "neutral_sent = []\n",
        "negative_sent = []\n",
        "\n",
        "\n",
        "# Perform sentiment analysis with a progress bar\n",
        "with tqdm(total=len(personality_data[\"cleaned_posts\"]), desc=\"Sentiment Analysis\") as pbar:\n",
        "    for post in personality_data[\"cleaned_posts\"]:\n",
        "        score = analyzer.polarity_scores(post)\n",
        "        compound_sent.append(score[\"compound\"])\n",
        "        positive_sent.append(score[\"pos\"])\n",
        "        neutral_sent.append(score[\"neu\"])\n",
        "        negative_sent.append(score[\"neg\"])\n",
        "\n",
        "        pbar.update(1)\n",
        "\n",
        "# Assign the sentiment scores to the DataFrame\n",
        "personality_data[\"compound_sentiment\"] = compound_sent\n",
        "personality_data[\"positive_sentiment\"] = positive_sent\n",
        "personality_data[\"neutral_sentiment\"] = neutral_sent\n",
        "personality_data[\"negative_sentiment\"] = negative_sent\n",
        "\n",
        "\n"
      ]
    },
    {
      "cell_type": "code",
      "execution_count": null,
      "metadata": {
        "id": "Sw3W--z_FA5q"
      },
      "outputs": [],
      "source": [
        "from sklearn.preprocessing import StandardScaler\n",
        "\n",
        "sentiment_columns = [\"compound_sentiment\", \"positive_sentiment\",\"neutral_sentiment\", \"negative_sentiment\" ]\n",
        "\n",
        "# Scale the sentiment scores using MinMaxScaler\n",
        "scaler = StandardScaler()\n",
        "personality_data[sentiment_columns] = scaler.fit_transform(personality_data[sentiment_columns])\n",
        "\n"
      ]
    },
    {
      "cell_type": "markdown",
      "metadata": {
        "id": "VKGLxKox69eP"
      },
      "source": [
        "# Feature Engineering for Personality Data: Additional Features and Counts"
      ]
    },
    {
      "cell_type": "code",
      "source": [
        "from tqdm import tqdm\n",
        "import numpy as np\n",
        "import re\n",
        "\n",
        "# Function to calculate the ratio of unique words in a post\n",
        "def unique_words(post):\n",
        "    unique = set(post.split())\n",
        "    return len(unique) / 50\n",
        "\n",
        "# Function to count the number of emojis in a post\n",
        "def emojis(post):\n",
        "    emoji_count = sum(1 for word in post.split() if \"http\" not in word and word.count(\":\") == 2)\n",
        "    return emoji_count / 50\n",
        "\n",
        "# Function to count the number of colons in a post\n",
        "def colons(post):\n",
        "    colon_count = sum(word.count(\":\") for word in post.split() if \"http\" not in word)\n",
        "    return colon_count / 50\n",
        "\n",
        "# Calculate various features for personality_data\n",
        "personality_data[\"qm\"] = personality_data[\"posts\"].str.count(\"\\?\") / 50\n",
        "personality_data[\"em\"] = personality_data[\"posts\"].str.count(\"!\") / 50\n",
        "personality_data[\"colons\"] = personality_data[\"posts\"].apply(colons)\n",
        "personality_data[\"emojis\"] = personality_data[\"posts\"].apply(emojis)\n",
        "\n",
        "personality_data[\"word_count\"] = personality_data[\"posts\"].str.split().apply(len) / 50\n",
        "personality_data[\"unique_words\"] = personality_data[\"posts\"].apply(unique_words)\n",
        "\n",
        "# Calculate post length variance\n",
        "post_lengths = [len(post.split()) for posts in personality_data[\"posts\"] for post in posts.split(\"|||\")]\n",
        "personality_data[\"post_length_var\"] = np.var(post_lengths)\n",
        "\n",
        "# Calculate the ratio of uppercase words in a post\n",
        "personality_data[\"upper\"] = personality_data[\"posts\"].apply(lambda x: sum(1 for word in x.split() if word.isupper()) / 50)\n",
        "\n",
        "# Calculate the number of links in a post\n",
        "personality_data[\"link_count\"] = personality_data[\"posts\"].str.count(\"http\") / 50\n",
        "\n",
        "# Calculate the number of ellipses in a post\n",
        "ellipses_count = personality_data[\"posts\"].str.count(\"\\.\\.\\.\") / 50\n",
        "personality_data[\"ellipses\"] = ellipses_count\n",
        "\n",
        "# Calculate the number of image links in a post\n",
        "img_count = personality_data[\"posts\"].str.count(r\"\\.(jpg|jpeg|gif|png)\") / 50\n",
        "personality_data[\"img_count\"] = img_count\n"
      ],
      "metadata": {
        "id": "_JfhO8yOUQH-"
      },
      "execution_count": null,
      "outputs": []
    },
    {
      "cell_type": "markdown",
      "metadata": {
        "id": "VzkXPQhAgHLv"
      },
      "source": [
        "# Enhancing Text Analysis with Part-of-Speech Tagging"
      ]
    },
    {
      "cell_type": "code",
      "source": [
        "import nltk\n",
        "nltk.download('punkt')\n",
        "nltk.download('averaged_perceptron_tagger')\n"
      ],
      "metadata": {
        "colab": {
          "base_uri": "https://localhost:8080/"
        },
        "id": "1ZnCFG4_dd4i",
        "outputId": "7420dde0-eb8f-43e5-8db2-defb6b7144b2"
      },
      "execution_count": null,
      "outputs": [
        {
          "output_type": "stream",
          "name": "stderr",
          "text": [
            "[nltk_data] Downloading package punkt to /root/nltk_data...\n",
            "[nltk_data]   Unzipping tokenizers/punkt.zip.\n",
            "[nltk_data] Downloading package averaged_perceptron_tagger to\n",
            "[nltk_data]     /root/nltk_data...\n",
            "[nltk_data]   Unzipping taggers/averaged_perceptron_tagger.zip.\n"
          ]
        },
        {
          "output_type": "execute_result",
          "data": {
            "text/plain": [
              "True"
            ]
          },
          "metadata": {},
          "execution_count": 14
        }
      ]
    },
    {
      "cell_type": "code",
      "execution_count": null,
      "metadata": {
        "id": "4pVeQ3q87I_V"
      },
      "outputs": [],
      "source": [
        "from nltk.tokenize import word_tokenize\n",
        "\n",
        "# Replace URLs with domain name and split posts using \"|||\", and store in \"tag_posts\" column\n",
        "personality_data[\"tag_posts\"] = personality_data[\"posts\"].str.replace(\n",
        "    re.compile(r\"https?:\\/\\/(www)?.?([A-Za-z_0-9-]+)([\\S])*\"),\n",
        "    lambda match: match.group(2)\n",
        ").str.split(\"\\|\\|\\|\")\n",
        "\n",
        "# Perform parts of speech tagging for each word in \"tag_posts\" and store in \"tagged_words\" column\n",
        "personality_data[\"tagged_words\"] = personality_data[\"tag_posts\"].apply(\n",
        "    lambda x: [nltk.pos_tag(word_tokenize(line)) for line in x]\n",
        ")\n",
        "\n"
      ]
    },
    {
      "cell_type": "code",
      "execution_count": null,
      "metadata": {
        "id": "eq2PFMlZ9N4x"
      },
      "outputs": [],
      "source": [
        "#Creating a Unique List of Tagged Words from Personality Data\n",
        "tag_list = list(set(my_tuple[1] for data in personality_data[\"tagged_words\"] for my_tuple in data[0]))"
      ]
    },
    {
      "cell_type": "code",
      "source": [
        "#Counting the Occurrences of a Specific POS Tag in a List of Tagged Sentences\n",
        "def pos_cat(x, tag):\n",
        "    return [len([y for y in line if y[1] == tag]) for line in x]\n",
        "# Create a new DataFrame to hold the computed values\n",
        "new_personality_data = personality_data.copy()\n",
        "\n",
        "for col in tag_list:\n",
        "    new_personality_data[\"POS_\" + col + \"_mean\"] = personality_data[\"tagged_words\"].apply(\n",
        "        lambda x: np.mean(pos_cat(x, col))\n",
        "    )\n",
        "    new_personality_data[\"POS_\" + col + \"_std\"] = personality_data[\"tagged_words\"].apply(\n",
        "        lambda x: np.std(pos_cat(x, col))\n",
        "    )\n",
        "\n",
        "# Concatenate the new_personality_data DataFrame with the original personality_data DataFrame\n",
        "personality_data = pd.concat([personality_data, new_personality_data.loc[:, ~new_personality_data.columns.isin(personality_data.columns)]], axis=1)\n",
        "\n"
      ],
      "metadata": {
        "id": "tsafe-E_AzPg"
      },
      "execution_count": null,
      "outputs": []
    },
    {
      "cell_type": "code",
      "source": [
        "# grouping pos tags based on stanford list\n",
        "tags_dict = {\n",
        "    \"ADJ\": [\"JJ\", \"JJR\", \"JJS\"],\n",
        "    \"ADP\": [\"EX\", \"TO\"],\n",
        "    \"ADV\": [\"RB\", \"RBR\", \"RBS\", \"WRB\"],\n",
        "    \"CONJ\": [\"CC\", \"IN\"],\n",
        "    \"DET\": [\"DT\", \"PDT\", \"WDT\"],\n",
        "    \"NOUN\": [\"NN\", \"NNS\", \"NNP\", \"NNPS\"],\n",
        "    \"NUM\": [\"CD\"],\n",
        "    \"PRT\": [\"RP\"],\n",
        "    \"PRON\": [\"PRP\", \"PRP$\", \"WP\", \"WP$\"],\n",
        "    \"VERB\": [\"MD\", \"VB\", \"VBD\", \"VBG\", \"VBN\", \"VBP\", \"VBZ\"],\n",
        "    \".\": [\"#\", \"$\", \"''\", \"(\", \")\", \",\", \".\", \":\"],\n",
        "    \"X\": [\"FW\", \"LS\", \"UH\"],\n",
        "}"
      ],
      "metadata": {
        "id": "FV96XdQr_g8-"
      },
      "execution_count": null,
      "outputs": []
    },
    {
      "cell_type": "code",
      "source": [
        "def stanford_tag(x, tag):\n",
        "    tags_list = [len([y for y in line if y[1] in tags_dict[tag]]) for line in x]\n",
        "    return tags_list\n",
        "\n",
        "# Create a new DataFrame to hold the computed values\n",
        "new_personality_data = personality_data.copy()\n",
        "\n",
        "for col in tags_dict.keys():\n",
        "    new_personality_data[col + \"_avg\"] = new_personality_data[\"tagged_words\"].apply(\n",
        "        lambda x, tag=col: np.median(stanford_tag(x, tag))\n",
        "    )\n",
        "\n",
        "# Concatenate the new_personality_data DataFrame with the original personality_data DataFrame\n",
        "personality_data = pd.concat([personality_data, new_personality_data], axis=1)\n"
      ],
      "metadata": {
        "id": "O6EF4sKP9zrR"
      },
      "execution_count": null,
      "outputs": []
    },
    {
      "cell_type": "code",
      "execution_count": null,
      "metadata": {
        "id": "insvS0K6jkrX"
      },
      "outputs": [],
      "source": [
        "file_path = \"/content/mbti-type/clean_data.csv\"\n",
        "personality_data.to_csv(file_path, index=False)"
      ]
    },
    {
      "cell_type": "markdown",
      "metadata": {
        "id": "NKf_NbYO7HUd"
      },
      "source": [
        "# Input the preprocessed data"
      ]
    },
    {
      "cell_type": "code",
      "execution_count": 1,
      "metadata": {
        "colab": {
          "base_uri": "https://localhost:8080/"
        },
        "id": "XJSFI1mvZtGL",
        "outputId": "01c4a54a-dcc7-43e2-f3c1-432594cf1d2c"
      },
      "outputs": [
        {
          "output_type": "stream",
          "name": "stdout",
          "text": [
            "Mounted at /content/drive\n"
          ]
        }
      ],
      "source": [
        "from google.colab import drive\n",
        "drive.mount('/content/drive')"
      ]
    },
    {
      "cell_type": "code",
      "execution_count": 2,
      "metadata": {
        "id": "VUB_4d0zfYCN"
      },
      "outputs": [],
      "source": [
        "import pandas as pd\n",
        "import os\n",
        "\n",
        "# reading the dataset\n",
        "personality_data = pd.read_csv(os.path.join(\"/content/drive/MyDrive/Machine learning Projects/Myers Briggs/clean_data_3 (3).csv\"))"
      ]
    },
    {
      "cell_type": "markdown",
      "source": [
        "## Data Preparation and Target Class Setup"
      ],
      "metadata": {
        "id": "o8pQjWk3oHLq"
      }
    },
    {
      "cell_type": "code",
      "execution_count": 3,
      "metadata": {
        "id": "vsfvdnI3BVLg"
      },
      "outputs": [],
      "source": [
        "# setting X to clean_posts, compound sentiment score, pos tags and various other counts\n",
        "X = personality_data[\n",
        "    [\n",
        "        \"cleaned_posts\",\n",
        "        \"compound_sentiment\",\n",
        "        \"ADJ_avg\",\n",
        "        \"ADP_avg\",\n",
        "        \"ADV_avg\",\n",
        "        \"CONJ_avg\",\n",
        "        \"DET_avg\",\n",
        "        \"NOUN_avg\",\n",
        "        \"NUM_avg\",\n",
        "        \"PRT_avg\",\n",
        "        \"PRON_avg\",\n",
        "        \"VERB_avg\",\n",
        "        \"qm\",\n",
        "        \"em\",\n",
        "        \"colons\",\n",
        "        \"emojis\",\n",
        "        \"word_count\",\n",
        "        \"unique_words\",\n",
        "        \"upper\",\n",
        "        \"link_count\",\n",
        "        \"ellipses\",\n",
        "        \"img_count\",\n",
        "    ]\n",
        "]\n",
        "\n",
        "\n",
        "X = X.loc[:, ~X.columns.duplicated()]\n",
        "# setting y to four target classes -> is_Extrovert, is_Sensing, is_Thinking, is_Judging\n",
        "y = personality_data.iloc[:, 1:5]"
      ]
    },
    {
      "cell_type": "markdown",
      "metadata": {
        "id": "kD5Usy6NCoXG"
      },
      "source": [
        "## Creating a list of words (other than the stop words) to be dropped to improve model performanace"
      ]
    },
    {
      "cell_type": "code",
      "execution_count": 4,
      "metadata": {
        "id": "5iY8zOApDC9I"
      },
      "outputs": [],
      "source": [
        "additional_stopwords = [\n",
        "    \"hey\",\n",
        "    \"hello\",\n",
        "    \"briggs\",\n",
        "    \"cat\",\n",
        "    \"car\",\n",
        "    \"mbti\",\n",
        "    \"soup\",\n",
        "    \"tea\",\n",
        "    \"sport\",\n",
        "    \"snow\",\n",
        "    \"Christmas\",\n",
        "    \"the\",\n",
        "    \"is\",\n",
        "    \"are\",\n",
        "    \"it\",\n",
        "]\n"
      ]
    },
    {
      "cell_type": "markdown",
      "metadata": {
        "id": "YGqOrC67DLTz"
      },
      "source": [
        "## Setting up preprocessor for vectorization and selecting best counts and scores"
      ]
    },
    {
      "cell_type": "code",
      "execution_count": 5,
      "metadata": {
        "id": "qNfddgeYJErf"
      },
      "outputs": [],
      "source": [
        "# preprocessing steps for selecting best k columns/features from counts & scores and for vectorizing words\n",
        "\n",
        "counts_n_scores = [\n",
        "    \"compound_sentiment\",\n",
        "    \"ADJ_avg\",\n",
        "    \"ADP_avg\",\n",
        "    \"ADV_avg\",\n",
        "    \"CONJ_avg\",\n",
        "    \"DET_avg\",\n",
        "    \"NOUN_avg\",\n",
        "    \"NUM_avg\",\n",
        "    \"PRT_avg\",\n",
        "    \"PRON_avg\",\n",
        "    \"VERB_avg\",\n",
        "    \"qm\",\n",
        "    \"em\",\n",
        "    \"colons\",\n",
        "    \"emojis\",\n",
        "    \"word_count\",\n",
        "    \"unique_words\",\n",
        "    \"upper\",\n",
        "    \"link_count\",\n",
        "    \"ellipses\",\n",
        "    \"img_count\",\n",
        "]"
      ]
    },
    {
      "cell_type": "markdown",
      "source": [
        "# Creating the model class"
      ],
      "metadata": {
        "id": "a9K9yKwcgBvG"
      }
    },
    {
      "cell_type": "code",
      "execution_count": 6,
      "metadata": {
        "id": "5wfKWbGXEAc5"
      },
      "outputs": [],
      "source": [
        "from sklearn.naive_bayes import GaussianNB\n",
        "from sklearn.model_selection import train_test_split\n",
        "from sklearn.metrics import accuracy_score\n",
        "\n",
        "# model evaluation\n",
        "from imblearn.metrics import classification_report_imbalanced\n",
        "from imblearn.metrics import geometric_mean_score\n",
        "from sklearn.metrics import average_precision_score\n",
        "from sklearn.metrics import roc_auc_score\n",
        "from sklearn.compose import make_column_transformer\n",
        "from sklearn.pipeline import make_pipeline\n",
        "from sklearn.preprocessing import FunctionTransformer\n",
        "\n",
        "# setting up the personality dictionary for printing scores for each class\n",
        "mbti_type = {\n",
        "    \"is_Extrovert\": \"Extrovert vs Introvert\",\n",
        "    \"is_Sensing\": \"Sensing vs Intuition\",\n",
        "    \"is_Thinking\": \"Thinking vs Feeling\",\n",
        "    \"is_Judging\": \"Judging vs Perceiving\",\n",
        "}\n",
        "\n",
        "\n",
        "\n",
        "\n",
        "# function to build the model\n",
        "def build_model(model, X, y, vectorizer_name):\n",
        "\n",
        "    accuracy_list = []\n",
        "    gmean_list = []\n",
        "    roc_auc_list = []\n",
        "    average_precision_list = []\n",
        "\n",
        "    for col in y.columns:\n",
        "        print(f\"\\n{mbti_type[col]}\")\n",
        "        target = y[col]\n",
        "\n",
        "        X_train, X_test, y_train, y_test = train_test_split(\n",
        "            X, target, test_size=0.2, random_state=42, stratify=target\n",
        "        )\n",
        "\n",
        "        # model training\n",
        "        model.fit(X_train, y_train)\n",
        "\n",
        "        # prediction\n",
        "        y_pred = model.predict(X_test)\n",
        "\n",
        "        # model evaluation\n",
        "        accuracy = accuracy_score(y_test, y_pred)\n",
        "        accuracy_list.append(accuracy)\n",
        "        gmean_list.append(geometric_mean_score(y_test, y_pred, average='weighted'))\n",
        "        roc_auc_list.append(roc_auc_score(y_test, y_pred))\n",
        "        average_precision_list.append(average_precision_score(y_test, y_pred))\n",
        "\n",
        "        print(f\"Accuracy: {accuracy:.2f}\")\n",
        "        print(f\"Geometric Mean Score: {gmean_list[-1]:.2f}\")\n",
        "        print(f\"ROC-AUC Score: {roc_auc_list[-1]:.2f}\")\n",
        "        print(f\"Average Precision-Recall Score: {average_precision_list[-1]:.2f}\")\n",
        "        print(classification_report_imbalanced(y_test, y_pred))\n",
        "\n",
        "    return accuracy_list, gmean_list, roc_auc_list, average_precision_list\n",
        "\n"
      ]
    },
    {
      "cell_type": "code",
      "execution_count": 7,
      "metadata": {
        "id": "82whP5IrgGi-"
      },
      "outputs": [],
      "source": [
        "import warnings\n",
        "\n",
        "warnings.filterwarnings(\"ignore\")\n"
      ]
    },
    {
      "cell_type": "markdown",
      "metadata": {
        "id": "5hB0PsbYj6B3"
      },
      "source": [
        "# Vectorize"
      ]
    },
    {
      "cell_type": "markdown",
      "source": [
        "## Word2Vec Vectorizer"
      ],
      "metadata": {
        "id": "qo2qHT9QiFlA"
      }
    },
    {
      "cell_type": "code",
      "execution_count": 8,
      "metadata": {
        "id": "zV7c-gY2-eqQ"
      },
      "outputs": [],
      "source": [
        "from sklearn.base import BaseEstimator, TransformerMixin\n",
        "from sklearn.compose import ColumnTransformer\n",
        "from gensim.models import Word2Vec\n",
        "from imblearn.pipeline import make_pipeline\n",
        "from sklearn.feature_selection import SelectKBest, f_classif\n",
        "from sklearn.preprocessing import StandardScaler\n",
        "import numpy as np\n",
        "\n",
        "\n",
        "class Word2VecVectorizer(BaseEstimator, TransformerMixin):\n",
        "    def __init__(self, min_df=25, max_df=0.85, stop_words=None, min_count=5, window=5, vector_size=100):\n",
        "        self.min_df = min_df\n",
        "        self.max_df = max_df\n",
        "        self.stop_words = stop_words\n",
        "        self.min_count = min_count\n",
        "        self.window = window\n",
        "        self.vector_size = vector_size\n",
        "        self.word_vectors = {}\n",
        "\n",
        "    def fit(self, X, y=None):\n",
        "        sentences = [text.split() for text in X]\n",
        "        word2vec = Word2Vec(\n",
        "            sentences,\n",
        "            min_count=self.min_count,\n",
        "            window=self.window,\n",
        "            vector_size=self.vector_size\n",
        "        )\n",
        "        self.word_vectors = {word: word2vec.wv[word] for word in word2vec.wv.key_to_index}\n",
        "        return self\n",
        "\n",
        "    def transform(self, X, y=None):\n",
        "        transformed_X = []\n",
        "        for text in X:\n",
        "            word_vectors = [self.word_vectors[word] for word in text.split() if word in self.word_vectors]\n",
        "            if word_vectors:\n",
        "                text_vector = np.mean(word_vectors, axis=0)\n",
        "            else:\n",
        "                text_vector = np.zeros(self.vector_size)\n",
        "            transformed_X.append(text_vector)\n",
        "        return np.array(transformed_X)\n",
        "\n",
        "\n",
        "\n",
        "# setting up preprocessing for COUNT vectorizer\n",
        "preprocesser_w2v = ColumnTransformer(transformers=[\n",
        "        (\"word2vec\", Word2VecVectorizer(min_df=25, max_df=0.85, stop_words=additional_stopwords), \"cleaned_posts\"),\n",
        "        (\"selectbest\", make_pipeline(StandardScaler(), SelectKBest(f_classif, k=10)), counts_n_scores),\n",
        "\n",
        "    ],\n",
        "    remainder=\"passthrough\",\n",
        ")\n",
        "\n",
        "\n"
      ]
    },
    {
      "cell_type": "markdown",
      "source": [
        "TF - IDF vectorizer"
      ],
      "metadata": {
        "id": "NlX5YpOj7C9E"
      }
    },
    {
      "cell_type": "code",
      "execution_count": 35,
      "metadata": {
        "id": "IhDUqfi4DWy9"
      },
      "outputs": [],
      "source": [
        "from imblearn.pipeline import make_pipeline\n",
        "from sklearn.preprocessing import StandardScaler\n",
        "from sklearn.feature_selection import SelectKBest, f_classif\n",
        "from sklearn.compose import ColumnTransformer\n",
        "from sklearn.feature_extraction.text import TfidfVectorizer\n",
        "from sklearn.base import BaseEstimator, TransformerMixin\n",
        "import numpy as np\n",
        "\n",
        "class CustomTfidfVectorizer(BaseEstimator, TransformerMixin):\n",
        "    def __init__(self, min_df=25, max_df=0.85, stop_words=None):\n",
        "        self.min_df = min_df\n",
        "        self.max_df = max_df\n",
        "        self.stop_words = stop_words\n",
        "        self.tfidf_vectorizer = None\n",
        "\n",
        "    def fit(self, X, y=None):\n",
        "        self.tfidf_vectorizer = TfidfVectorizer(min_df=self.min_df, max_df=self.max_df, stop_words=self.stop_words)\n",
        "        self.tfidf_vectorizer.fit(X)\n",
        "        return self\n",
        "\n",
        "    def transform(self, X, y=None):\n",
        "        return self.tfidf_vectorizer.transform(X).toarray()\n",
        "\n",
        "# Setting up preprocessing for COUNT vectorizer\n",
        "preprocesser_tf = ColumnTransformer(transformers=[\n",
        "    (\"tfidf\", CustomTfidfVectorizer(min_df=25, max_df=0.85, stop_words=additional_stopwords), \"cleaned_posts\"),\n",
        "    (\"selectbest\", make_pipeline(StandardScaler(), SelectKBest(f_classif, k=10)), counts_n_scores),\n",
        "],\n",
        "remainder=\"passthrough\")\n"
      ]
    },
    {
      "cell_type": "code",
      "execution_count": 11,
      "metadata": {
        "id": "slthvzmHjR3E"
      },
      "outputs": [],
      "source": [
        "from sklearn.base import TransformerMixin\n",
        "import numpy as np\n",
        "\n",
        "class SparseToDenseTransformer(TransformerMixin):\n",
        "    def fit(self, X, y=None, **fit_params):\n",
        "        return self\n",
        "\n",
        "    def transform(self, X, y=None, **fit_params):\n",
        "        if isinstance(X, np.ndarray):\n",
        "            return X\n",
        "        return X.toarray()\n"
      ]
    },
    {
      "cell_type": "markdown",
      "metadata": {
        "id": "PbHWs39tEbOf"
      },
      "source": [
        "#  Models with Word2Vec vectorizer"
      ]
    },
    {
      "cell_type": "code",
      "source": [
        "from imblearn.under_sampling import RandomUnderSampler, TomekLinks\n",
        "from sklearn.naive_bayes import GaussianNB# to use a idendity sampler\n",
        "from sklearn.linear_model import SGDClassifier\n",
        "from xgboost import XGBClassifier\n",
        "from sklearn.ensemble import RandomForestClassifier\n",
        "from sklearn.linear_model import LogisticRegressionCV\n",
        "from sklearn.ensemble import VotingClassifier\n"
      ],
      "metadata": {
        "id": "eRjklRK1ekjt"
      },
      "execution_count": 9,
      "outputs": []
    },
    {
      "cell_type": "markdown",
      "source": [
        "## *Gaussian NB*"
      ],
      "metadata": {
        "id": "xMPZA5wB_Mh7"
      }
    },
    {
      "cell_type": "code",
      "source": [
        "#Create the Gaussian NB pipeline\n",
        "gnb_model = make_pipeline(\n",
        "    preprocesser_w2v,\n",
        "    SparseToDenseTransformer(),\n",
        "    TomekLinks(),\n",
        "    GaussianNB()\n",
        "    )\n",
        "\n",
        "# Call the build_model function\n",
        "accuracy_list, gmean_list, roc_auc_list, average_precision_list = build_model(gnb_model, X, y, \"word2vec\")"
      ],
      "metadata": {
        "colab": {
          "base_uri": "https://localhost:8080/"
        },
        "id": "F0I68ftB_t1o",
        "outputId": "bf858686-d442-480e-f672-eb2fc5367787"
      },
      "execution_count": 12,
      "outputs": [
        {
          "output_type": "stream",
          "name": "stdout",
          "text": [
            "\n",
            "Extrovert vs Introvert\n",
            "Accuracy: 0.66\n",
            "Geometric Mean Score: 0.64\n",
            "ROC-AUC Score: 0.64\n",
            "Average Precision-Recall Score: 0.31\n",
            "                   pre       rec       spe        f1       geo       iba       sup\n",
            "\n",
            "          0       0.85      0.68      0.60      0.76      0.64      0.41      1322\n",
            "          1       0.36      0.60      0.68      0.45      0.64      0.40       396\n",
            "\n",
            "avg / total       0.74      0.66      0.62      0.69      0.64      0.41      1718\n",
            "\n",
            "\n",
            "Sensing vs Intuition\n",
            "Accuracy: 0.76\n",
            "Geometric Mean Score: 0.59\n",
            "ROC-AUC Score: 0.61\n",
            "Average Precision-Recall Score: 0.19\n",
            "                   pre       rec       spe        f1       geo       iba       sup\n",
            "\n",
            "          0       0.90      0.81      0.41      0.85      0.58      0.35      1481\n",
            "          1       0.26      0.41      0.81      0.32      0.58      0.32       237\n",
            "\n",
            "avg / total       0.81      0.76      0.47      0.78      0.58      0.34      1718\n",
            "\n",
            "\n",
            "Thinking vs Feeling\n",
            "Accuracy: 0.71\n",
            "Geometric Mean Score: 0.71\n",
            "ROC-AUC Score: 0.71\n",
            "Average Precision-Recall Score: 0.61\n",
            "                   pre       rec       spe        f1       geo       iba       sup\n",
            "\n",
            "          0       0.74      0.71      0.71      0.73      0.71      0.51       929\n",
            "          1       0.68      0.71      0.71      0.69      0.71      0.50       789\n",
            "\n",
            "avg / total       0.71      0.71      0.71      0.71      0.71      0.50      1718\n",
            "\n",
            "\n",
            "Judging vs Perceiving\n",
            "Accuracy: 0.58\n",
            "Geometric Mean Score: 0.57\n",
            "ROC-AUC Score: 0.57\n",
            "Average Precision-Recall Score: 0.44\n",
            "                   pre       rec       spe        f1       geo       iba       sup\n",
            "\n",
            "          0       0.67      0.58      0.56      0.62      0.57      0.33      1038\n",
            "          1       0.47      0.56      0.58      0.51      0.57      0.33       680\n",
            "\n",
            "avg / total       0.59      0.58      0.57      0.58      0.57      0.33      1718\n",
            "\n"
          ]
        }
      ]
    },
    {
      "cell_type": "markdown",
      "source": [
        "## *SGD*"
      ],
      "metadata": {
        "id": "w-TTZSlnA_qB"
      }
    },
    {
      "cell_type": "code",
      "source": [
        "#Create the SGD pipeline\n",
        "w2v_sgd = make_pipeline(\n",
        "    preprocesser_w2v,\n",
        "    TomekLinks(),\n",
        "    SGDClassifier(loss='log', penalty='l2')\n",
        ")\n",
        "\n",
        "#Call the build_model function\n",
        "w2v_sgd_acc, w2v_sgd_gmean, w2v_sgd_roc, w2v_sgd_prec = build_model(w2v_sgd, X, y, \"w2v\")\n"
      ],
      "metadata": {
        "colab": {
          "base_uri": "https://localhost:8080/"
        },
        "id": "y4aXG8HhBE_H",
        "outputId": "1cac32fb-fe93-4497-eb86-6cb574891ffa"
      },
      "execution_count": 13,
      "outputs": [
        {
          "output_type": "stream",
          "name": "stdout",
          "text": [
            "\n",
            "Extrovert vs Introvert\n",
            "Accuracy: 0.78\n",
            "Geometric Mean Score: 0.52\n",
            "ROC-AUC Score: 0.57\n",
            "Average Precision-Recall Score: 0.29\n",
            "                   pre       rec       spe        f1       geo       iba       sup\n",
            "\n",
            "          0       0.79      0.97      0.16      0.87      0.40      0.17      1322\n",
            "          1       0.60      0.16      0.97      0.26      0.40      0.15       396\n",
            "\n",
            "avg / total       0.75      0.78      0.35      0.73      0.40      0.17      1718\n",
            "\n",
            "\n",
            "Sensing vs Intuition\n",
            "Accuracy: 0.87\n",
            "Geometric Mean Score: 0.46\n",
            "ROC-AUC Score: 0.56\n",
            "Average Precision-Recall Score: 0.20\n",
            "                   pre       rec       spe        f1       geo       iba       sup\n",
            "\n",
            "          0       0.88      0.99      0.13      0.93      0.35      0.14      1481\n",
            "          1       0.65      0.13      0.99      0.21      0.35      0.11       237\n",
            "\n",
            "avg / total       0.85      0.87      0.25      0.83      0.35      0.13      1718\n",
            "\n",
            "\n",
            "Thinking vs Feeling\n",
            "Accuracy: 0.80\n",
            "Geometric Mean Score: 0.80\n",
            "ROC-AUC Score: 0.80\n",
            "Average Precision-Recall Score: 0.71\n",
            "                   pre       rec       spe        f1       geo       iba       sup\n",
            "\n",
            "          0       0.83      0.81      0.80      0.82      0.80      0.65       929\n",
            "          1       0.78      0.80      0.81      0.79      0.80      0.64       789\n",
            "\n",
            "avg / total       0.80      0.80      0.80      0.80      0.80      0.64      1718\n",
            "\n",
            "\n",
            "Judging vs Perceiving\n",
            "Accuracy: 0.64\n",
            "Geometric Mean Score: 0.59\n",
            "ROC-AUC Score: 0.59\n",
            "Average Precision-Recall Score: 0.46\n",
            "                   pre       rec       spe        f1       geo       iba       sup\n",
            "\n",
            "          0       0.66      0.82      0.36      0.73      0.55      0.31      1038\n",
            "          1       0.57      0.36      0.82      0.44      0.55      0.28       680\n",
            "\n",
            "avg / total       0.63      0.64      0.54      0.62      0.55      0.30      1718\n",
            "\n"
          ]
        }
      ]
    },
    {
      "cell_type": "markdown",
      "source": [
        "## XGBoost"
      ],
      "metadata": {
        "id": "r539Bd4VDJB7"
      }
    },
    {
      "cell_type": "code",
      "source": [
        "# Create the XGBoost pipeline\n",
        "w2v_xgboost = make_pipeline(\n",
        "    preprocesser_w2v,\n",
        "    TomekLinks(),\n",
        "    XGBClassifier(\n",
        "        objective=\"binary:logistic\",\n",
        "        eval_metric=\"logloss\",\n",
        "        use_label_encoder=False,\n",
        "        random_state=42,\n",
        "    ),\n",
        ")\n",
        "\n",
        "# Build the model\n",
        "w2v_xg_acc, w2v_xg_gmean, w2v_xg_roc, w2v_xg_prec = build_model(w2v_xgboost, X, y, \"w2v\")"
      ],
      "metadata": {
        "colab": {
          "base_uri": "https://localhost:8080/"
        },
        "id": "KTEwFLDdDNqO",
        "outputId": "d06cdc80-c229-4da1-9dc4-f0c44ef43938"
      },
      "execution_count": 14,
      "outputs": [
        {
          "output_type": "stream",
          "name": "stdout",
          "text": [
            "\n",
            "Extrovert vs Introvert\n",
            "Accuracy: 0.79\n",
            "Geometric Mean Score: 0.58\n",
            "ROC-AUC Score: 0.61\n",
            "Average Precision-Recall Score: 0.33\n",
            "                   pre       rec       spe        f1       geo       iba       sup\n",
            "\n",
            "          0       0.81      0.94      0.28      0.87      0.51      0.28      1322\n",
            "          1       0.57      0.28      0.94      0.38      0.51      0.25       396\n",
            "\n",
            "avg / total       0.76      0.79      0.43      0.76      0.51      0.27      1718\n",
            "\n",
            "\n",
            "Sensing vs Intuition\n",
            "Accuracy: 0.86\n",
            "Geometric Mean Score: 0.44\n",
            "ROC-AUC Score: 0.55\n",
            "Average Precision-Recall Score: 0.18\n",
            "                   pre       rec       spe        f1       geo       iba       sup\n",
            "\n",
            "          0       0.87      0.99      0.11      0.93      0.32      0.11      1481\n",
            "          1       0.53      0.11      0.99      0.18      0.32      0.09       237\n",
            "\n",
            "avg / total       0.83      0.86      0.23      0.82      0.32      0.11      1718\n",
            "\n",
            "\n",
            "Thinking vs Feeling\n",
            "Accuracy: 0.78\n",
            "Geometric Mean Score: 0.78\n",
            "ROC-AUC Score: 0.78\n",
            "Average Precision-Recall Score: 0.69\n",
            "                   pre       rec       spe        f1       geo       iba       sup\n",
            "\n",
            "          0       0.81      0.77      0.79      0.79      0.78      0.61       929\n",
            "          1       0.75      0.79      0.77      0.77      0.78      0.61       789\n",
            "\n",
            "avg / total       0.78      0.78      0.78      0.78      0.78      0.61      1718\n",
            "\n",
            "\n",
            "Judging vs Perceiving\n",
            "Accuracy: 0.61\n",
            "Geometric Mean Score: 0.58\n",
            "ROC-AUC Score: 0.58\n",
            "Average Precision-Recall Score: 0.45\n",
            "                   pre       rec       spe        f1       geo       iba       sup\n",
            "\n",
            "          0       0.67      0.70      0.47      0.68      0.57      0.33      1038\n",
            "          1       0.50      0.47      0.70      0.49      0.57      0.32       680\n",
            "\n",
            "avg / total       0.60      0.61      0.56      0.60      0.57      0.33      1718\n",
            "\n"
          ]
        }
      ]
    },
    {
      "cell_type": "markdown",
      "source": [
        "## Random Forest Classifier"
      ],
      "metadata": {
        "id": "-KQW5U9M9eSN"
      }
    },
    {
      "cell_type": "code",
      "source": [
        "#Create the Random Forest pipelien\n",
        "w2v_random_forest = make_pipeline(\n",
        "    preprocesser_w2v,\n",
        "    TomekLinks(),\n",
        "    RandomForestClassifier(n_estimators=100, random_state=42),\n",
        ")\n",
        "\n",
        "w2v_random_forest_acc, w2v_random_forest_gmean, w2v_random_forest_roc, w2v_random_forest_prec = build_model(w2v_random_forest, X, y, \"w2v\")\n",
        "\n"
      ],
      "metadata": {
        "colab": {
          "base_uri": "https://localhost:8080/"
        },
        "id": "a5jU3Js-EkXw",
        "outputId": "4da94c35-9295-43a7-d0cb-03adcaf07158"
      },
      "execution_count": 18,
      "outputs": [
        {
          "output_type": "stream",
          "name": "stdout",
          "text": [
            "\n",
            "Extrovert vs Introvert\n",
            "Accuracy: 0.78\n",
            "Geometric Mean Score: 0.47\n",
            "ROC-AUC Score: 0.53\n",
            "Average Precision-Recall Score: 0.26\n",
            "                   pre       rec       spe        f1       geo       iba       sup\n",
            "\n",
            "          0       0.78      0.99      0.07      0.87      0.27      0.08      1322\n",
            "          1       0.60      0.07      0.99      0.13      0.27      0.07       396\n",
            "\n",
            "avg / total       0.74      0.78      0.28      0.70      0.27      0.08      1718\n",
            "\n",
            "\n",
            "Sensing vs Intuition\n",
            "Accuracy: 0.87\n",
            "Geometric Mean Score: 0.38\n",
            "ROC-AUC Score: 0.52\n",
            "Average Precision-Recall Score: 0.16\n",
            "                   pre       rec       spe        f1       geo       iba       sup\n",
            "\n",
            "          0       0.87      1.00      0.03      0.93      0.18      0.04      1481\n",
            "          1       0.80      0.03      1.00      0.06      0.18      0.03       237\n",
            "\n",
            "avg / total       0.86      0.87      0.17      0.81      0.18      0.04      1718\n",
            "\n",
            "\n",
            "Thinking vs Feeling\n",
            "Accuracy: 0.77\n",
            "Geometric Mean Score: 0.77\n",
            "ROC-AUC Score: 0.77\n",
            "Average Precision-Recall Score: 0.67\n",
            "                   pre       rec       spe        f1       geo       iba       sup\n",
            "\n",
            "          0       0.80      0.76      0.77      0.78      0.77      0.59       929\n",
            "          1       0.73      0.77      0.76      0.75      0.77      0.59       789\n",
            "\n",
            "avg / total       0.77      0.77      0.77      0.77      0.77      0.59      1718\n",
            "\n",
            "\n",
            "Judging vs Perceiving\n",
            "Accuracy: 0.61\n",
            "Geometric Mean Score: 0.57\n",
            "ROC-AUC Score: 0.57\n",
            "Average Precision-Recall Score: 0.44\n",
            "                   pre       rec       spe        f1       geo       iba       sup\n",
            "\n",
            "          0       0.65      0.79      0.35      0.71      0.52      0.29      1038\n",
            "          1       0.52      0.35      0.79      0.42      0.52      0.26       680\n",
            "\n",
            "avg / total       0.60      0.61      0.52      0.59      0.52      0.28      1718\n",
            "\n"
          ]
        }
      ]
    },
    {
      "cell_type": "markdown",
      "metadata": {
        "id": "WPl4rO5iIV7q"
      },
      "source": [
        "## Logistic_regression"
      ]
    },
    {
      "cell_type": "code",
      "execution_count": 15,
      "metadata": {
        "colab": {
          "base_uri": "https://localhost:8080/"
        },
        "id": "Q_Zmd3gCEqhp",
        "outputId": "6cf91be2-2737-4a71-b0b1-260008990f2a"
      },
      "outputs": [
        {
          "output_type": "stream",
          "name": "stdout",
          "text": [
            "\n",
            "Extrovert vs Introvert\n",
            "Accuracy: 0.80\n",
            "Geometric Mean Score: 0.61\n",
            "ROC-AUC Score: 0.63\n",
            "Average Precision-Recall Score: 0.36\n",
            "                   pre       rec       spe        f1       geo       iba       sup\n",
            "\n",
            "          0       0.82      0.94      0.33      0.88      0.55      0.33      1322\n",
            "          1       0.62      0.33      0.94      0.43      0.55      0.29       396\n",
            "\n",
            "avg / total       0.78      0.80      0.47      0.77      0.55      0.32      1718\n",
            "\n",
            "\n",
            "Sensing vs Intuition\n",
            "Accuracy: 0.87\n",
            "Geometric Mean Score: 0.52\n",
            "ROC-AUC Score: 0.59\n",
            "Average Precision-Recall Score: 0.24\n",
            "                   pre       rec       spe        f1       geo       iba       sup\n",
            "\n",
            "          0       0.89      0.98      0.21      0.93      0.45      0.22      1481\n",
            "          1       0.62      0.21      0.98      0.31      0.45      0.19       237\n",
            "\n",
            "avg / total       0.85      0.87      0.31      0.84      0.45      0.21      1718\n",
            "\n",
            "\n",
            "Thinking vs Feeling\n",
            "Accuracy: 0.81\n",
            "Geometric Mean Score: 0.81\n",
            "ROC-AUC Score: 0.81\n",
            "Average Precision-Recall Score: 0.71\n",
            "                   pre       rec       spe        f1       geo       iba       sup\n",
            "\n",
            "          0       0.84      0.79      0.82      0.81      0.81      0.65       929\n",
            "          1       0.77      0.82      0.79      0.79      0.81      0.65       789\n",
            "\n",
            "avg / total       0.81      0.81      0.81      0.81      0.81      0.65      1718\n",
            "\n",
            "\n",
            "Judging vs Perceiving\n",
            "Accuracy: 0.67\n",
            "Geometric Mean Score: 0.64\n",
            "ROC-AUC Score: 0.64\n",
            "Average Precision-Recall Score: 0.50\n",
            "                   pre       rec       spe        f1       geo       iba       sup\n",
            "\n",
            "          0       0.71      0.77      0.51      0.74      0.63      0.40      1038\n",
            "          1       0.59      0.51      0.77      0.55      0.63      0.38       680\n",
            "\n",
            "avg / total       0.66      0.67      0.61      0.66      0.63      0.39      1718\n",
            "\n"
          ]
        }
      ],
      "source": [
        "w2v_logistic_regression = make_pipeline(\n",
        "    preprocesser_w2v, TomekLinks(), LogisticRegressionCV(Cs=[0.1, 1, 10], cv=5)\n",
        ")\n",
        "w2v_log_acc, w2v_log_gmean, w2v_log_roc, w2v_log_prec=build_model(w2v_logistic_regression, X, y, \"word2vec\")\n"
      ]
    },
    {
      "cell_type": "markdown",
      "source": [
        "## *Voting Classifier*"
      ],
      "metadata": {
        "id": "y317tEsdLP1y"
      }
    },
    {
      "cell_type": "code",
      "source": [
        "# Create the Voting classifier\n",
        "voting_classifier = VotingClassifier([\n",
        "    ('w2v_xgboost', w2v_xgboost),\n",
        "    ('w2v_logistic_regression', w2v_logistic_regression),\n",
        "    ('w2v_sgd', w2v_sgd),\n",
        "], voting='soft')\n",
        "\n",
        "w2v_accuracy_list = []\n",
        "w2v_gmean_list = []\n",
        "w2v_roc_auc_list = []\n",
        "w2v_average_precision_list = []\n",
        "\n",
        "for col in y.columns:\n",
        "\n",
        "        print(f\"\\n{mbti_type[col]}\")\n",
        "        target = y[col]\n",
        "\n",
        "        X_train, X_test, y_train, y_test = train_test_split(\n",
        "            X, target, test_size=0.2, random_state=42, stratify=target\n",
        "        )\n",
        "        # Train the Voting classifier\n",
        "        voting_classifier.fit(X_train, y_train)\n",
        "\n",
        "        # y_hat\n",
        "        y_pred = voting_classifier.predict(X_test)\n",
        "\n",
        "        # y_probability\n",
        "        y_proba = voting_classifier.predict_proba(X_test)[:, 1]\n",
        "\n",
        "        # precision recall score\n",
        "        w2v_average_precision = average_precision_score(y_test, y_proba)\n",
        "        w2v_average_precision_list.append(w2v_average_precision)\n",
        "\n",
        "        # model evaluation\n",
        "        w2v_accuracy = accuracy_score(y_test, y_pred)\n",
        "        w2v_accuracy_list.append(w2v_accuracy)\n",
        "\n",
        "        w2v_gmean = geometric_mean_score(y_test, y_pred, average='weighted')\n",
        "        w2v_gmean_list.append(w2v_gmean)\n",
        "\n",
        "        w2v_roc_auc = roc_auc_score(y_test, y_proba)\n",
        "        w2v_roc_auc_list.append(w2v_roc_auc)\n",
        "\n",
        "\n",
        "\n",
        "\n",
        "\n",
        "        print(f\"Accuracy: {w2v_accuracy:.2f}\")\n",
        "        print(f\"Geometric Mean Score: {w2v_gmean:.2f}\")\n",
        "        print(f\"ROC-AUC Score: {w2v_roc_auc:.2f}\")\n",
        "        print(f\"Average Precision-Recall Score: {w2v_average_precision:.2f}\")\n",
        "        print(classification_report_imbalanced(y_test, y_pred))\n",
        "\n",
        ""
      ],
      "metadata": {
        "colab": {
          "base_uri": "https://localhost:8080/"
        },
        "id": "C6YSYPBALO3N",
        "outputId": "3a3dae17-1b87-4f95-94dd-71a87a1b29ca"
      },
      "execution_count": 16,
      "outputs": [
        {
          "output_type": "stream",
          "name": "stdout",
          "text": [
            "\n",
            "Extrovert vs Introvert\n",
            "Accuracy: 0.79\n",
            "Geometric Mean Score: 0.56\n",
            "ROC-AUC Score: 0.79\n",
            "Average Precision-Recall Score: 0.52\n",
            "                   pre       rec       spe        f1       geo       iba       sup\n",
            "\n",
            "          0       0.81      0.96      0.22      0.88      0.46      0.23      1322\n",
            "          1       0.63      0.22      0.96      0.33      0.46      0.20       396\n",
            "\n",
            "avg / total       0.77      0.79      0.39      0.75      0.46      0.22      1718\n",
            "\n",
            "\n",
            "Sensing vs Intuition\n",
            "Accuracy: 0.87\n",
            "Geometric Mean Score: 0.47\n",
            "ROC-AUC Score: 0.82\n",
            "Average Precision-Recall Score: 0.46\n",
            "                   pre       rec       spe        f1       geo       iba       sup\n",
            "\n",
            "          0       0.88      0.99      0.14      0.93      0.37      0.14      1481\n",
            "          1       0.65      0.14      0.99      0.22      0.37      0.12       237\n",
            "\n",
            "avg / total       0.85      0.87      0.25      0.83      0.37      0.14      1718\n",
            "\n",
            "\n",
            "Thinking vs Feeling\n",
            "Accuracy: 0.81\n",
            "Geometric Mean Score: 0.81\n",
            "ROC-AUC Score: 0.88\n",
            "Average Precision-Recall Score: 0.87\n",
            "                   pre       rec       spe        f1       geo       iba       sup\n",
            "\n",
            "          0       0.84      0.80      0.81      0.82      0.81      0.65       929\n",
            "          1       0.77      0.81      0.80      0.79      0.81      0.65       789\n",
            "\n",
            "avg / total       0.81      0.81      0.81      0.81      0.81      0.65      1718\n",
            "\n",
            "\n",
            "Judging vs Perceiving\n",
            "Accuracy: 0.65\n",
            "Geometric Mean Score: 0.64\n",
            "ROC-AUC Score: 0.69\n",
            "Average Precision-Recall Score: 0.57\n",
            "                   pre       rec       spe        f1       geo       iba       sup\n",
            "\n",
            "          0       0.71      0.71      0.56      0.71      0.63      0.41      1038\n",
            "          1       0.56      0.56      0.71      0.56      0.63      0.39       680\n",
            "\n",
            "avg / total       0.65      0.65      0.62      0.65      0.63      0.40      1718\n",
            "\n"
          ]
        }
      ]
    },
    {
      "cell_type": "markdown",
      "source": [
        "## Visualize the data using Word2Vec Vectorizer"
      ],
      "metadata": {
        "id": "UcKGID-1CqG8"
      }
    },
    {
      "cell_type": "markdown",
      "source": [
        "# Visualize Accuracy"
      ],
      "metadata": {
        "id": "yI9Yaq910AS3"
      }
    },
    {
      "cell_type": "code",
      "source": [
        "import numpy as np\n",
        "import matplotlib.pyplot as plt\n",
        "\n",
        "# Evaluation metrics for each model\n",
        "models = ['Gaussian NB', 'SGD', 'XGBoost', 'Random Forest', 'Logistic Regression', 'Voting Classifier']\n",
        "accuracy = [accuracy_list, w2v_sgd_acc, w2v_xg_acc, w2v_random_forest_acc, w2v_log_acc, w2v_accuracy_list]\n",
        "\n",
        "# Number of models\n",
        "num_models = len(models)\n",
        "\n",
        "# Number of classes\n",
        "num_classes = len(accuracy[0])  # Assuming all accuracy lists have the same length\n",
        "\n",
        "# Set up the figure and axes\n",
        "fig, ax = plt.subplots(figsize=(10, 6))  # Adjust the figure size as needed\n",
        "\n",
        "# Width of each bar\n",
        "bar_width = 0.2\n",
        "\n",
        "# Indices for the x-axis ticks\n",
        "index = np.arange(num_models)\n",
        "\n",
        "# Color map for the bars\n",
        "color_map = plt.cm.get_cmap('Set3', num_classes)\n",
        "\n",
        "# Plot the bars\n",
        "for i in range(num_classes):\n",
        "    plt.bar(index + (i * bar_width), [accuracy[j][i] for j in range(num_models)], bar_width, label=f'Class {i + 1}', color=color_map(i))\n",
        "\n",
        "# Set up the x-axis and y-axis labels\n",
        "plt.xlabel('Models')\n",
        "plt.ylabel('Accuracy')\n",
        "\n",
        "# Set up the x-axis tick labels\n",
        "plt.xticks(index + (bar_width * (num_classes - 1)) / 2, models, rotation=45, ha='right')  # Adjust rotation and alignment\n",
        "\n",
        "# Add a legend\n",
        "plt.legend()\n",
        "\n",
        "# Show the plot\n",
        "plt.show()\n"
      ],
      "metadata": {
        "colab": {
          "base_uri": "https://localhost:8080/",
          "height": 632
        },
        "id": "AfKVnf7JqdGM",
        "outputId": "4cfe4df4-ee1f-4a27-a03c-c3ad6c83571b"
      },
      "execution_count": 28,
      "outputs": [
        {
          "output_type": "display_data",
          "data": {
            "text/plain": [
              "<Figure size 1000x600 with 1 Axes>"
            ],
            "image/png": "[encoded data removed]"
          },
          "metadata": {}
        }
      ]
    },
    {
      "cell_type": "markdown",
      "source": [
        "## Find the model with the best accuracy"
      ],
      "metadata": {
        "id": "oMTUsxg1qy7a"
      }
    },
    {
      "cell_type": "code",
      "source": [
        "import numpy as np\n",
        "\n",
        "# Evaluation metrics for each model\n",
        "models = ['Gaussian NB', 'SGD', 'XGBoost', 'Random Forest', 'Logistic Regression', 'Voting Classifier']\n",
        "accuracy = [accuracy_list, w2v_sgd_acc, w2v_xg_acc, w2v_random_forest_acc, w2v_log_acc, w2v_accuracy_list]\n",
        "\n",
        "# Calculate the average accuracy for each model\n",
        "avg_accuracy = [np.mean(acc) for acc in accuracy]\n",
        "\n",
        "# Find the index of the model with the highest average accuracy\n",
        "best_model_index = np.argmax(avg_accuracy)\n",
        "\n",
        "# Get the name of the model with the highest average accuracy\n",
        "best_model = models[best_model_index]\n",
        "\n",
        "# Print the best model and its average accuracy\n",
        "print(\"Overall Best Model:\")\n",
        "print(f\"Model Name: {best_model}\")\n",
        "print(f\"Average Accuracy: {avg_accuracy[best_model_index]:.2f}\")\n"
      ],
      "metadata": {
        "colab": {
          "base_uri": "https://localhost:8080/"
        },
        "id": "Wqvr9-Djqvb3",
        "outputId": "af66d490-23b8-4dcd-d0f8-2209ea0cb300"
      },
      "execution_count": 22,
      "outputs": [
        {
          "output_type": "stream",
          "name": "stdout",
          "text": [
            "Overall Best Model:\n",
            "Model Name: Logistic Regression\n",
            "Average Accuracy: 0.79\n"
          ]
        }
      ]
    },
    {
      "cell_type": "markdown",
      "source": [
        "# Visualize Geometric Mean"
      ],
      "metadata": {
        "id": "nhvlEUR4zJMv"
      }
    },
    {
      "cell_type": "code",
      "source": [
        "import numpy as np\n",
        "import matplotlib.pyplot as plt\n",
        "\n",
        "# Evaluation metrics for each model\n",
        "models = ['Gaussian NB', 'SGD', 'XGBoost', 'Random Forest', 'Logistic Regression', 'Voting Classifier']\n",
        "gmean = [gmean_list, w2v_sgd_gmean, w2v_xg_gmean, w2v_random_forest_gmean, w2v_log_gmean, w2v_gmean_list]\n",
        "\n",
        "# Number of models\n",
        "num_models = len(models)\n",
        "\n",
        "# Number of classes\n",
        "num_classes = len(gmean[0])  # Assuming all gmean lists have the same length\n",
        "\n",
        "# Set up the figure and axes\n",
        "fig, ax = plt.subplots(figsize=(10, 6))  # Adjust the figure size as needed\n",
        "\n",
        "# Width of each bar\n",
        "bar_width = 0.2\n",
        "\n",
        "# Indices for the x-axis ticks\n",
        "index = np.arange(num_models)\n",
        "\n",
        "# Color map for the bars\n",
        "color_map = plt.cm.get_cmap('Set3', num_classes)\n",
        "\n",
        "# Plot the bars\n",
        "for i in range(num_classes):\n",
        "    plt.bar(index + (i * bar_width), [gmean[j][i] for j in range(num_models)], bar_width, label=f'Class {i + 1}', color=color_map(i))\n",
        "\n",
        "# Set up the x-axis and y-axis labels\n",
        "plt.xlabel('Models')\n",
        "plt.ylabel('Geometric Mean')\n",
        "\n",
        "# Set up the x-axis tick labels\n",
        "plt.xticks(index + (bar_width * (num_classes - 1)) / 2, models, rotation=45, ha='right')  # Adjust rotation and alignment\n",
        "\n",
        "# Add a legend\n",
        "plt.legend()\n",
        "\n",
        "# Show the plot\n",
        "plt.tight_layout()  # Adjust the layout\n",
        "plt.show()\n",
        "\n",
        "\n"
      ],
      "metadata": {
        "colab": {
          "base_uri": "https://localhost:8080/",
          "height": 607
        },
        "id": "h5SAvLQMrksa",
        "outputId": "70ae2a4f-43ca-4f43-a0ad-3954f430044c"
      },
      "execution_count": 26,
      "outputs": [
        {
          "output_type": "display_data",
          "data": {
            "text/plain": [
              "<Figure size 1000x600 with 1 Axes>"
            ],
            "image/png": "[encoded data removed]"
          },
          "metadata": {}
        }
      ]
    },
    {
      "cell_type": "markdown",
      "source": [
        "## Find the model with the best Geometric Mean"
      ],
      "metadata": {
        "id": "A5rhWoDFrVaz"
      }
    },
    {
      "cell_type": "code",
      "source": [
        "import numpy as np\n",
        "\n",
        "# Calculate the average geometric mean for each model\n",
        "avg_gmean = [np.mean(gm) for gm in gmean]\n",
        "\n",
        "# Find the index of the model with the highest average geometric mean\n",
        "best_model_index = np.argmax(avg_gmean)\n",
        "\n",
        "# Get the name of the model with the highest average geometric mean\n",
        "best_model = models[best_model_index]\n",
        "\n",
        "# Print the best model and its average geometric mean\n",
        "print(\"Overall Best Model (Geometric Mean):\")\n",
        "print(f\"Model Name: {best_model}\")\n",
        "print(f\"Average Geometric Mean: {avg_gmean[best_model_index]:.2f}\")\n"
      ],
      "metadata": {
        "colab": {
          "base_uri": "https://localhost:8080/"
        },
        "id": "SfOhntNtraK6",
        "outputId": "de461e17-06f7-4eb4-9633-0f9ecd5d05b8"
      },
      "execution_count": 23,
      "outputs": [
        {
          "output_type": "stream",
          "name": "stdout",
          "text": [
            "Overall Best Model (Geometric Mean):\n",
            "Model Name: Logistic Regression\n",
            "Average Geometric Mean: 0.64\n"
          ]
        }
      ]
    },
    {
      "cell_type": "markdown",
      "source": [
        "# Visualize ROC-AUC"
      ],
      "metadata": {
        "id": "WTV1HAVQ0I-F"
      }
    },
    {
      "cell_type": "code",
      "source": [
        "import numpy as np\n",
        "import matplotlib.pyplot as plt\n",
        "\n",
        "# Evaluation metrics for each model\n",
        "models = ['Gaussian NB', 'SGD', 'XGBoost', 'Random Forest', 'Logistic Regression', 'Voting Classifier']\n",
        "roc_auc = [roc_auc_list, w2v_sgd_roc, w2v_xg_roc, w2v_random_forest_roc, w2v_log_roc, w2v_roc_auc_list]\n",
        "\n",
        "# Number of models\n",
        "num_models = len(models)\n",
        "\n",
        "# Number of classes\n",
        "num_classes = len(roc_auc[0])  # Assuming all roc_auc lists have the same length\n",
        "\n",
        "# Set up the figure and axes\n",
        "fig, ax = plt.subplots(figsize=(10, 6))  # Adjust the figure size as needed\n",
        "\n",
        "# Width of each bar\n",
        "bar_width = 0.2\n",
        "\n",
        "# Indices for the x-axis ticks\n",
        "index = np.arange(num_models)\n",
        "\n",
        "# Color map for the bars\n",
        "color_map = plt.cm.get_cmap('Set3', num_classes)\n",
        "\n",
        "# Plot the bars\n",
        "for i in range(num_classes):\n",
        "    plt.bar(index + (i * bar_width), [roc_auc[j][i] for j in range(num_models)], bar_width, label=f'Class {i + 1}', color=color_map(i))\n",
        "\n",
        "# Set up the x-axis and y-axis labels\n",
        "plt.xlabel('Models')\n",
        "plt.ylabel('ROC-AUC')\n",
        "\n",
        "# Set up the x-axis tick labels\n",
        "plt.xticks(index + (bar_width * (num_classes - 1)) / 2, models, rotation=45, ha='right')  # Adjust rotation and alignment\n",
        "\n",
        "# Add a legend\n",
        "plt.legend()\n",
        "\n",
        "# Show the plot\n",
        "plt.tight_layout()  # Adjust the layout\n",
        "plt.show()\n"
      ],
      "metadata": {
        "colab": {
          "base_uri": "https://localhost:8080/",
          "height": 607
        },
        "id": "TEmWkHnQ0Vpl",
        "outputId": "d770fdf0-5b1b-42a6-aa71-737ce5ed5cb5"
      },
      "execution_count": 29,
      "outputs": [
        {
          "output_type": "display_data",
          "data": {
            "text/plain": [
              "<Figure size 1000x600 with 1 Axes>"
            ],
            "image/png": "[encoded data removed]"
          },
          "metadata": {}
        }
      ]
    },
    {
      "cell_type": "markdown",
      "source": [
        "## Find the model with the best Geometric Mean"
      ],
      "metadata": {
        "id": "Kw2_BtWv0tAN"
      }
    },
    {
      "cell_type": "code",
      "source": [
        "# Calculate average ROC-AUC for each model\n",
        "average_roc_auc = [np.mean(roc_auc[i]) for i in range(num_models)]\n",
        "\n",
        "# Find the model with the best ROC-AUC\n",
        "best_model_index = np.argmax(average_roc_auc)\n",
        "best_model = models[best_model_index]\n",
        "best_roc_auc = average_roc_auc[best_model_index]\n",
        "\n",
        "# Print the best model and its ROC-AUC value\n",
        "print(f\"The model with the best ROC-AUC is {best_model} with a value of {best_roc_auc:.2f}\")\n"
      ],
      "metadata": {
        "colab": {
          "base_uri": "https://localhost:8080/"
        },
        "id": "pybRqYZ50t4K",
        "outputId": "3cbc0558-e040-4609-ddcb-afb82bf650f3"
      },
      "execution_count": 30,
      "outputs": [
        {
          "output_type": "stream",
          "name": "stdout",
          "text": [
            "The model with the best ROC-AUC is Voting Classifier with a value of 0.79\n"
          ]
        }
      ]
    },
    {
      "cell_type": "markdown",
      "source": [
        "# Visualize the average precision"
      ],
      "metadata": {
        "id": "PdpRGnl_1BIw"
      }
    },
    {
      "cell_type": "code",
      "source": [
        "# Evaluation metrics for each model\n",
        "models = ['Gaussian NB', 'SGD', 'XGBoost', 'Random Forest', 'Logistic Regression', 'Voting Classifier']\n",
        "avg_precision = [average_precision_list, w2v_sgd_prec, w2v_xg_prec, w2v_random_forest_prec, w2v_log_prec, w2v_average_precision_list]\n",
        "\n",
        "# Number of models\n",
        "num_models = len(models)\n",
        "\n",
        "# Number of classes\n",
        "num_classes = len(avg_precision[0])  # Assuming all avg_precision lists have the same length\n",
        "\n",
        "# Set up the figure and axes\n",
        "fig, ax = plt.subplots(figsize=(10, 6))\n",
        "\n",
        "# Width of each bar\n",
        "bar_width = 0.2\n",
        "\n",
        "# Indices for the x-axis ticks\n",
        "index = np.arange(num_models)\n",
        "\n",
        "# Color map for the bars\n",
        "color_map = plt.cm.get_cmap('Set3', num_classes)\n",
        "\n",
        "# Plot the bars\n",
        "for i in range(num_classes):\n",
        "    plt.bar(index + (i * bar_width), [avg_precision[j][i] for j in range(num_models)], bar_width, label=f'Class {i + 1}', color=color_map(i))\n",
        "\n",
        "# Set up the x-axis and y-axis labels\n",
        "plt.xlabel('Models')\n",
        "plt.ylabel('Average Precision')\n",
        "\n",
        "# Set up the x-axis tick labels\n",
        "plt.xticks(index + (bar_width * (num_classes - 1)) / 2, models, rotation=45, ha='right')\n",
        "\n",
        "# Add a legend\n",
        "plt.legend()\n",
        "\n",
        "# Show the plot\n",
        "plt.show()\n"
      ],
      "metadata": {
        "colab": {
          "base_uri": "https://localhost:8080/",
          "height": 632
        },
        "id": "bZPYz8Fk1E5e",
        "outputId": "d92fc875-3b8d-48d4-8f6a-e067514e58ee"
      },
      "execution_count": 31,
      "outputs": [
        {
          "output_type": "display_data",
          "data": {
            "text/plain": [
              "<Figure size 1000x600 with 1 Axes>"
            ],
            "image/png": "[encoded data removed]"
          },
          "metadata": {}
        }
      ]
    },
    {
      "cell_type": "markdown",
      "source": [
        "## Find the mode with the best average precision"
      ],
      "metadata": {
        "id": "NJil14JC1kWL"
      }
    },
    {
      "cell_type": "code",
      "source": [
        "best_avg_precision = max(avg_precision[0])  # Assuming the first list is the baseline\n",
        "\n",
        "# Find the index of the model with the best average precision\n",
        "best_model_index = avg_precision[0].index(best_avg_precision)\n",
        "\n",
        "# Get the name of the best model\n",
        "best_model = models[best_model_index]\n",
        "\n",
        "print(f\"The model with the best average precision is: {best_model} (Average Precision: {best_avg_precision:.2f})\")\n"
      ],
      "metadata": {
        "colab": {
          "base_uri": "https://localhost:8080/"
        },
        "id": "AVq5Jesp1pIL",
        "outputId": "56e05dfe-fb69-4d43-e8d2-8f11291094c3"
      },
      "execution_count": 32,
      "outputs": [
        {
          "output_type": "stream",
          "name": "stdout",
          "text": [
            "The model with the best average precision is: XGBoost (Average Precision: 0.61)\n"
          ]
        }
      ]
    },
    {
      "cell_type": "markdown",
      "source": [
        "# Find the best model overall with Word2Vec Vectorizer"
      ],
      "metadata": {
        "id": "fkpXZFqw2Ga4"
      }
    },
    {
      "cell_type": "code",
      "source": [
        "# Combine the metrics into a single score (e.g., average or weighted average)\n",
        "combined_score = (np.mean(accuracy, axis=1) + np.mean(gmean, axis=1) + np.mean(roc_auc, axis=1) + np.mean(avg_precision, axis=1)) / 4\n",
        "\n",
        "# Find the index of the model with the highest combined score\n",
        "best_model_index = np.argmax(combined_score)\n",
        "\n",
        "# Get the name of the best model\n",
        "best_model = models[best_model_index]\n",
        "\n",
        "# Print the best model and its corresponding combined score\n",
        "print(f\"The best model overall based on combined metrics is: {best_model} (Combined Score: {combined_score[best_model_index]:.2f})\")\n"
      ],
      "metadata": {
        "colab": {
          "base_uri": "https://localhost:8080/"
        },
        "id": "86kNboQz2NO4",
        "outputId": "7345ea4f-3c36-4b0e-cb21-d9103cb0c83e"
      },
      "execution_count": 33,
      "outputs": [
        {
          "output_type": "stream",
          "name": "stdout",
          "text": [
            "The best model overall based on combined metrics is: Voting Classifier (Combined Score: 0.70)\n"
          ]
        }
      ]
    },
    {
      "cell_type": "markdown",
      "source": [
        "# So the best model overall is Voting Classifier."
      ],
      "metadata": {
        "id": "xfoURGI12RR-"
      }
    },
    {
      "cell_type": "markdown",
      "source": [
        "\n",
        "\n",
        "---\n",
        "\n"
      ],
      "metadata": {
        "id": "9-zV_TFb2djE"
      }
    },
    {
      "cell_type": "markdown",
      "metadata": {
        "id": "MmZVUdpd-0wW"
      },
      "source": [
        "# Models with TF-IDF vectorizer\n",
        "\n",
        "\n"
      ]
    },
    {
      "cell_type": "markdown",
      "metadata": {
        "id": "hLN-fCDXhPeJ"
      },
      "source": [
        "## GaussianNB"
      ]
    },
    {
      "cell_type": "code",
      "execution_count": 37,
      "metadata": {
        "colab": {
          "base_uri": "https://localhost:8080/"
        },
        "id": "7QxmpfyKhIUm",
        "outputId": "09b9c511-0904-49cc-c633-09a5bce1dc6e"
      },
      "outputs": [
        {
          "output_type": "stream",
          "name": "stdout",
          "text": [
            "\n",
            "Extrovert vs Introvert\n",
            "Accuracy: 0.70\n",
            "Geometric Mean Score: 0.62\n",
            "ROC-AUC Score: 0.63\n",
            "Average Precision-Recall Score: 0.30\n",
            "                   pre       rec       spe        f1       geo       iba       sup\n",
            "\n",
            "          0       0.83      0.76      0.49      0.79      0.61      0.38      1322\n",
            "          1       0.38      0.49      0.76      0.43      0.61      0.36       396\n",
            "\n",
            "avg / total       0.73      0.70      0.55      0.71      0.61      0.38      1718\n",
            "\n",
            "\n",
            "Sensing vs Intuition\n",
            "Accuracy: 0.76\n",
            "Geometric Mean Score: 0.60\n",
            "ROC-AUC Score: 0.62\n",
            "Average Precision-Recall Score: 0.19\n",
            "                   pre       rec       spe        f1       geo       iba       sup\n",
            "\n",
            "          0       0.90      0.81      0.42      0.85      0.59      0.36      1481\n",
            "          1       0.26      0.42      0.81      0.32      0.59      0.33       237\n",
            "\n",
            "avg / total       0.81      0.76      0.48      0.78      0.59      0.35      1718\n",
            "\n",
            "\n",
            "Thinking vs Feeling\n",
            "Accuracy: 0.71\n",
            "Geometric Mean Score: 0.71\n",
            "ROC-AUC Score: 0.71\n",
            "Average Precision-Recall Score: 0.61\n",
            "                   pre       rec       spe        f1       geo       iba       sup\n",
            "\n",
            "          0       0.75      0.70      0.72      0.72      0.71      0.51       929\n",
            "          1       0.67      0.72      0.70      0.70      0.71      0.51       789\n",
            "\n",
            "avg / total       0.71      0.71      0.71      0.71      0.71      0.51      1718\n",
            "\n",
            "\n",
            "Judging vs Perceiving\n",
            "Accuracy: 0.60\n",
            "Geometric Mean Score: 0.58\n",
            "ROC-AUC Score: 0.58\n",
            "Average Precision-Recall Score: 0.45\n",
            "                   pre       rec       spe        f1       geo       iba       sup\n",
            "\n",
            "          0       0.68      0.64      0.53      0.66      0.58      0.34      1038\n",
            "          1       0.49      0.53      0.64      0.51      0.58      0.34       680\n",
            "\n",
            "avg / total       0.60      0.60      0.57      0.60      0.58      0.34      1718\n",
            "\n"
          ]
        }
      ],
      "source": [
        "from imblearn.under_sampling import RandomUnderSampler,TomekLinks\n",
        "\n",
        "tfidf_nb = make_pipeline(\n",
        "    preprocesser_tf,\n",
        "    SparseToDenseTransformer(),\n",
        "    TomekLinks(),\n",
        "    GaussianNB()\n",
        ")\n",
        "\n",
        "tf_g_accuracy_list, tf_g_gmean_list, tf_g_roc_auc_list, tf_g_average_precision_list  = build_model(tfidf_nb, X, y, \"tfidf\")\n",
        "\n",
        "\n"
      ]
    },
    {
      "cell_type": "markdown",
      "metadata": {
        "id": "7zMOW_nxJyCn"
      },
      "source": [
        "##  SGD Classifier"
      ]
    },
    {
      "cell_type": "code",
      "source": [
        "from sklearn.linear_model import SGDClassifier\n",
        "\n",
        "tfidf_sgd = make_pipeline(\n",
        "    preprocesser_tf, TomekLinks(), SGDClassifier(loss='log', penalty='elasticnet')\n",
        ")\n",
        "\n",
        "tf_sgd_acc, tf_sgd_gmean, tf_sgd_roc, tf_sgd_prec = build_model(tfidf_sgd, X, y, \"tfidf\")\n"
      ],
      "metadata": {
        "colab": {
          "base_uri": "https://localhost:8080/"
        },
        "id": "eS5dGsiqrgjt",
        "outputId": "af5f53d6-8269-46b3-db01-5289ad266244"
      },
      "execution_count": 38,
      "outputs": [
        {
          "output_type": "stream",
          "name": "stdout",
          "text": [
            "\n",
            "Extrovert vs Introvert\n",
            "Accuracy: 0.84\n",
            "Geometric Mean Score: 0.68\n",
            "ROC-AUC Score: 0.69\n",
            "Average Precision-Recall Score: 0.47\n",
            "                   pre       rec       spe        f1       geo       iba       sup\n",
            "\n",
            "          0       0.85      0.97      0.41      0.90      0.63      0.42      1322\n",
            "          1       0.80      0.41      0.97      0.55      0.63      0.38       396\n",
            "\n",
            "avg / total       0.84      0.84      0.54      0.82      0.63      0.41      1718\n",
            "\n",
            "\n",
            "Sensing vs Intuition\n",
            "Accuracy: 0.89\n",
            "Geometric Mean Score: 0.56\n",
            "ROC-AUC Score: 0.62\n",
            "Average Precision-Recall Score: 0.32\n",
            "                   pre       rec       spe        f1       geo       iba       sup\n",
            "\n",
            "          0       0.89      0.99      0.25      0.94      0.50      0.27      1481\n",
            "          1       0.88      0.25      0.99      0.39      0.50      0.23       237\n",
            "\n",
            "avg / total       0.89      0.89      0.35      0.86      0.50      0.26      1718\n",
            "\n",
            "\n",
            "Thinking vs Feeling\n",
            "Accuracy: 0.84\n",
            "Geometric Mean Score: 0.85\n",
            "ROC-AUC Score: 0.85\n",
            "Average Precision-Recall Score: 0.76\n",
            "                   pre       rec       spe        f1       geo       iba       sup\n",
            "\n",
            "          0       0.88      0.82      0.87      0.85      0.85      0.71       929\n",
            "          1       0.80      0.87      0.82      0.84      0.85      0.72       789\n",
            "\n",
            "avg / total       0.85      0.84      0.85      0.84      0.85      0.72      1718\n",
            "\n",
            "\n",
            "Judging vs Perceiving\n",
            "Accuracy: 0.77\n",
            "Geometric Mean Score: 0.77\n",
            "ROC-AUC Score: 0.77\n",
            "Average Precision-Recall Score: 0.62\n",
            "                   pre       rec       spe        f1       geo       iba       sup\n",
            "\n",
            "          0       0.85      0.75      0.79      0.80      0.77      0.60      1038\n",
            "          1       0.68      0.79      0.75      0.73      0.77      0.60       680\n",
            "\n",
            "avg / total       0.78      0.77      0.78      0.77      0.77      0.60      1718\n",
            "\n"
          ]
        }
      ]
    },
    {
      "cell_type": "markdown",
      "source": [
        "## XGBoost"
      ],
      "metadata": {
        "id": "BokROeYO0YAL"
      }
    },
    {
      "cell_type": "code",
      "source": [
        "import xgboost as xgb\n",
        "from sklearn.metrics import classification_report, accuracy_score\n",
        "\n",
        "# Define the XGBoost classifier pipeline\n",
        "tfidf_xgboost = make_pipeline(\n",
        "    preprocesser_tf, TomekLinks(), xgb.XGBClassifier()\n",
        ")\n",
        "\n",
        "# Build the model\n",
        "tf_xg_acc, tf_xg_gmean, tf_xg_roc, tf_xg_prec  = build_model(tfidf_xgboost, X, y, \"tfidf\")\n"
      ],
      "metadata": {
        "colab": {
          "base_uri": "https://localhost:8080/"
        },
        "id": "wx29oekWzZE3",
        "outputId": "26268a35-f13c-4287-ae05-e448687794db"
      },
      "execution_count": 40,
      "outputs": [
        {
          "output_type": "stream",
          "name": "stdout",
          "text": [
            "\n",
            "Extrovert vs Introvert\n",
            "Accuracy: 0.85\n",
            "Geometric Mean Score: 0.72\n",
            "ROC-AUC Score: 0.73\n",
            "Average Precision-Recall Score: 0.50\n",
            "                   pre       rec       spe        f1       geo       iba       sup\n",
            "\n",
            "          0       0.87      0.94      0.52      0.90      0.70      0.51      1322\n",
            "          1       0.74      0.52      0.94      0.61      0.70      0.47       396\n",
            "\n",
            "avg / total       0.84      0.85      0.62      0.84      0.70      0.50      1718\n",
            "\n",
            "\n",
            "Sensing vs Intuition\n",
            "Accuracy: 0.90\n",
            "Geometric Mean Score: 0.67\n",
            "ROC-AUC Score: 0.70\n",
            "Average Precision-Recall Score: 0.41\n",
            "                   pre       rec       spe        f1       geo       iba       sup\n",
            "\n",
            "          0       0.91      0.98      0.43      0.95      0.65      0.44      1481\n",
            "          1       0.78      0.43      0.98      0.55      0.65      0.39       237\n",
            "\n",
            "avg / total       0.90      0.90      0.50      0.89      0.65      0.43      1718\n",
            "\n",
            "\n",
            "Thinking vs Feeling\n",
            "Accuracy: 0.83\n",
            "Geometric Mean Score: 0.83\n",
            "ROC-AUC Score: 0.83\n",
            "Average Precision-Recall Score: 0.75\n",
            "                   pre       rec       spe        f1       geo       iba       sup\n",
            "\n",
            "          0       0.87      0.81      0.86      0.84      0.83      0.69       929\n",
            "          1       0.79      0.86      0.81      0.83      0.83      0.70       789\n",
            "\n",
            "avg / total       0.84      0.83      0.84      0.83      0.83      0.70      1718\n",
            "\n",
            "\n",
            "Judging vs Perceiving\n",
            "Accuracy: 0.77\n",
            "Geometric Mean Score: 0.76\n",
            "ROC-AUC Score: 0.76\n",
            "Average Precision-Recall Score: 0.62\n",
            "                   pre       rec       spe        f1       geo       iba       sup\n",
            "\n",
            "          0       0.80      0.82      0.69      0.81      0.76      0.58      1038\n",
            "          1       0.72      0.69      0.82      0.71      0.76      0.56       680\n",
            "\n",
            "avg / total       0.77      0.77      0.74      0.77      0.76      0.57      1718\n",
            "\n"
          ]
        }
      ]
    },
    {
      "cell_type": "markdown",
      "source": [
        "## Random Forest Classifier"
      ],
      "metadata": {
        "id": "PDX99cDM-k7y"
      }
    },
    {
      "cell_type": "code",
      "source": [
        "from sklearn.ensemble import RandomForestClassifier\n",
        "\n",
        "tfidf_random_forest = make_pipeline(\n",
        "    preprocesser_tf, TomekLinks(), RandomForestClassifier(n_estimators=100, random_state=42),\n",
        ")\n",
        "\n",
        "tf_random_forest_acc, tf_random_forest_gmean, tf_random_forest_roc, tf_random_forest_prec = build_model(tfidf_random_forest, X, y, \"tfidf\")\n"
      ],
      "metadata": {
        "colab": {
          "base_uri": "https://localhost:8080/"
        },
        "id": "StA5o7F3Ai0m",
        "outputId": "f10a2483-02a7-431c-9bd5-3c0c701b5b1e"
      },
      "execution_count": 41,
      "outputs": [
        {
          "output_type": "stream",
          "name": "stdout",
          "text": [
            "\n",
            "Extrovert vs Introvert\n",
            "Accuracy: 0.79\n",
            "Geometric Mean Score: 0.48\n",
            "ROC-AUC Score: 0.54\n",
            "Average Precision-Recall Score: 0.29\n",
            "                   pre       rec       spe        f1       geo       iba       sup\n",
            "\n",
            "          0       0.78      1.00      0.09      0.88      0.29      0.09      1322\n",
            "          1       0.87      0.09      1.00      0.16      0.29      0.08       396\n",
            "\n",
            "avg / total       0.80      0.79      0.30      0.71      0.29      0.09      1718\n",
            "\n",
            "\n",
            "Sensing vs Intuition\n",
            "Accuracy: 0.86\n",
            "Geometric Mean Score: 0.36\n",
            "ROC-AUC Score: 0.51\n",
            "Average Precision-Recall Score: 0.15\n",
            "                   pre       rec       spe        f1       geo       iba       sup\n",
            "\n",
            "          0       0.86      1.00      0.01      0.93      0.11      0.01      1481\n",
            "          1       1.00      0.01      1.00      0.02      0.11      0.01       237\n",
            "\n",
            "avg / total       0.88      0.86      0.15      0.80      0.11      0.01      1718\n",
            "\n",
            "\n",
            "Thinking vs Feeling\n",
            "Accuracy: 0.80\n",
            "Geometric Mean Score: 0.80\n",
            "ROC-AUC Score: 0.80\n",
            "Average Precision-Recall Score: 0.71\n",
            "                   pre       rec       spe        f1       geo       iba       sup\n",
            "\n",
            "          0       0.84      0.78      0.83      0.81      0.80      0.64       929\n",
            "          1       0.76      0.83      0.78      0.79      0.80      0.65       789\n",
            "\n",
            "avg / total       0.80      0.80      0.80      0.80      0.80      0.64      1718\n",
            "\n",
            "\n",
            "Judging vs Perceiving\n",
            "Accuracy: 0.72\n",
            "Geometric Mean Score: 0.67\n",
            "ROC-AUC Score: 0.67\n",
            "Average Precision-Recall Score: 0.56\n",
            "                   pre       rec       spe        f1       geo       iba       sup\n",
            "\n",
            "          0       0.71      0.93      0.41      0.80      0.62      0.40      1038\n",
            "          1       0.79      0.41      0.93      0.54      0.62      0.36       680\n",
            "\n",
            "avg / total       0.74      0.72      0.61      0.70      0.62      0.38      1718\n",
            "\n"
          ]
        }
      ]
    },
    {
      "cell_type": "markdown",
      "metadata": {
        "id": "6TjJySgJmiiT"
      },
      "source": [
        "## *Logistic Regression*"
      ]
    },
    {
      "cell_type": "code",
      "execution_count": null,
      "metadata": {
        "colab": {
          "base_uri": "https://localhost:8080/"
        },
        "id": "7TKRgeSrEn8A",
        "outputId": "2f478901-5e04-42ea-b400-7eb6f0fa029a"
      },
      "outputs": [
        {
          "output_type": "stream",
          "name": "stdout",
          "text": [
            "\n",
            "Extrovert vs Introvert\n",
            "Accuracy: 0.84\n",
            "Geometric Mean Score: 0.72\n",
            "ROC-AUC Score: 0.73\n",
            "Average Precision-Recall Score: 0.49\n",
            "                   pre       rec       spe        f1       geo       iba       sup\n",
            "\n",
            "          0       0.87      0.94      0.53      0.90      0.70      0.51      1322\n",
            "          1       0.72      0.53      0.94      0.61      0.70      0.47       396\n",
            "\n",
            "avg / total       0.83      0.84      0.62      0.83      0.70      0.50      1718\n",
            "\n",
            "\n",
            "Sensing vs Intuition\n",
            "Accuracy: 0.92\n",
            "Geometric Mean Score: 0.72\n",
            "ROC-AUC Score: 0.74\n",
            "Average Precision-Recall Score: 0.47\n",
            "                   pre       rec       spe        f1       geo       iba       sup\n",
            "\n",
            "          0       0.92      0.98      0.49      0.95      0.70      0.51      1481\n",
            "          1       0.82      0.49      0.98      0.62      0.70      0.46       237\n",
            "\n",
            "avg / total       0.91      0.92      0.56      0.91      0.70      0.50      1718\n",
            "\n",
            "\n",
            "Thinking vs Feeling\n",
            "Accuracy: 0.84\n",
            "Geometric Mean Score: 0.84\n",
            "ROC-AUC Score: 0.84\n",
            "Average Precision-Recall Score: 0.76\n",
            "                   pre       rec       spe        f1       geo       iba       sup\n",
            "\n",
            "          0       0.88      0.82      0.87      0.85      0.84      0.71       929\n",
            "          1       0.80      0.87      0.82      0.84      0.84      0.72       789\n",
            "\n",
            "avg / total       0.85      0.84      0.85      0.84      0.84      0.71      1718\n",
            "\n",
            "\n",
            "Judging vs Perceiving\n"
          ]
        }
      ],
      "source": [
        "tfidf_logistic_regression = make_pipeline(\n",
        "    preprocesser_tf,TomekLinks(),LogisticRegressionCV(Cs=[0.1, 1, 10], cv=5)\n",
        ")\n",
        "# Call the build_model function with the provided values\n",
        "\n",
        "\n",
        "tf_log_acc, tf_log_gmean, tf_log_roc, tf_log_prec = build_model(tfidf_logistic_regression, X, y, \"tfidf\")"
      ]
    },
    {
      "cell_type": "markdown",
      "metadata": {
        "id": "EjaTeTcMiWjj"
      },
      "source": [
        "## Voting Classifier"
      ]
    },
    {
      "cell_type": "code",
      "source": [
        "from sklearn.ensemble import VotingClassifier\n",
        "\n",
        "tf_accuracy_list = []\n",
        "tf_gmean_list = []\n",
        "tf_roc_auc_list = []\n",
        "tf_average_precision_list = []\n",
        "\n",
        "# Create the Voting classifier\n",
        "voting_classifier = VotingClassifier([\n",
        "    ('tf_xgboost', tfidf_xgboost),\n",
        "    ('tf_sdg',tfidf_sgd),\n",
        "    ('tf_logistic_regression', tfidf_logistic_regression),\n",
        "\n",
        "], voting='soft')\n",
        "\n",
        "\n",
        "for col in y.columns:\n",
        "\n",
        "        print(f\"\\n{mbti_type[col]}\")\n",
        "        target = y[col]\n",
        "\n",
        "        X_train, X_test, y_train, y_test = train_test_split(\n",
        "            X, target, test_size=0.2, random_state=42, stratify=target\n",
        "        )\n",
        "        # Train the Voting classifier\n",
        "        voting_classifier.fit(X_train, y_train)\n",
        "\n",
        "        # y_hat\n",
        "        y_pred = voting_classifier.predict(X_test)\n",
        "\n",
        "        # y_probability\n",
        "        y_proba = voting_classifier.predict_proba(X_test)[:, 1]\n",
        "\n",
        "        # precision recall score\n",
        "        tf_average_precision = average_precision_score(y_test, y_proba)\n",
        "        tf_average_precision_list.append(tf_average_precision)\n",
        "\n",
        "        # model evaluation\n",
        "        tf_accuracy = accuracy_score(y_test, y_pred)\n",
        "        tf_accuracy_list.append(tf_accuracy)\n",
        "\n",
        "        tf_gmean = geometric_mean_score(y_test, y_pred, average='weighted')\n",
        "        tf_gmean_list.append(tf_gmean)\n",
        "\n",
        "        tf_roc_auc = roc_auc_score(y_test, y_proba)\n",
        "        tf_roc_auc_list.append(tf_roc_auc)\n",
        "\n",
        "\n",
        "\n",
        "\n",
        "        print(f\"Accuracy: {tf_accuracy:.2f}\")\n",
        "        print(f\"Geometric Mean Score: {tf_gmean:.2f}\")\n",
        "        print(f\"ROC-AUC Score: {tf_roc_auc:.2f}\")\n",
        "        print(f\"Average Precision-Recall Score: {tf_average_precision:.2f}\")\n",
        "        print(classification_report_imbalanced(y_test, y_pred))\n"
      ],
      "metadata": {
        "colab": {
          "base_uri": "https://localhost:8080/"
        },
        "id": "jtPUvLvmA9Sz",
        "outputId": "a46d5916-6f90-4674-9364-3a79109f5bcf"
      },
      "execution_count": 44,
      "outputs": [
        {
          "output_type": "stream",
          "name": "stdout",
          "text": [
            "\n",
            "Extrovert vs Introvert\n",
            "Accuracy: 0.85\n",
            "Geometric Mean Score: 0.72\n",
            "ROC-AUC Score: 0.89\n",
            "Average Precision-Recall Score: 0.73\n",
            "                   pre       rec       spe        f1       geo       iba       sup\n",
            "\n",
            "          0       0.87      0.96      0.51      0.91      0.70      0.51      1322\n",
            "          1       0.77      0.51      0.96      0.61      0.70      0.47       396\n",
            "\n",
            "avg / total       0.85      0.85      0.61      0.84      0.70      0.50      1718\n",
            "\n",
            "\n",
            "Sensing vs Intuition\n",
            "Accuracy: 0.92\n",
            "Geometric Mean Score: 0.72\n",
            "ROC-AUC Score: 0.92\n",
            "Average Precision-Recall Score: 0.73\n",
            "                   pre       rec       spe        f1       geo       iba       sup\n",
            "\n",
            "          0       0.92      0.98      0.50      0.95      0.70      0.51      1481\n",
            "          1       0.84      0.50      0.98      0.62      0.70      0.47       237\n",
            "\n",
            "avg / total       0.91      0.92      0.57      0.91      0.70      0.51      1718\n",
            "\n",
            "\n",
            "Thinking vs Feeling\n",
            "Accuracy: 0.85\n",
            "Geometric Mean Score: 0.85\n",
            "ROC-AUC Score: 0.92\n",
            "Average Precision-Recall Score: 0.91\n",
            "                   pre       rec       spe        f1       geo       iba       sup\n",
            "\n",
            "          0       0.88      0.82      0.87      0.85      0.85      0.71       929\n",
            "          1       0.81      0.87      0.82      0.84      0.85      0.72       789\n",
            "\n",
            "avg / total       0.85      0.85      0.85      0.85      0.85      0.72      1718\n",
            "\n",
            "\n",
            "Judging vs Perceiving\n",
            "Accuracy: 0.80\n",
            "Geometric Mean Score: 0.78\n",
            "ROC-AUC Score: 0.86\n",
            "Average Precision-Recall Score: 0.79\n",
            "                   pre       rec       spe        f1       geo       iba       sup\n",
            "\n",
            "          0       0.82      0.86      0.71      0.84      0.78      0.61      1038\n",
            "          1       0.76      0.71      0.86      0.73      0.78      0.59       680\n",
            "\n",
            "avg / total       0.79      0.80      0.77      0.79      0.78      0.61      1718\n",
            "\n"
          ]
        }
      ]
    },
    {
      "cell_type": "markdown",
      "source": [
        "# Visualiazing accuracy with TF-IDF vectorizer"
      ],
      "metadata": {
        "id": "VuR-Y69vURf6"
      }
    },
    {
      "cell_type": "code",
      "source": [
        "import numpy as np\n",
        "import matplotlib.pyplot as plt\n",
        "\n",
        "# Evaluation metrics for each model\n",
        "models = ['Gaussian NB', 'SGD', 'XGBoost', 'Random Forest', 'Logistic Regression', 'Voting Classifier']\n",
        "accuracy = [tf_g_accuracy_list, tf_sgd_acc, tf_xg_acc, tf_random_forest_acc, tf_log_acc, tf_accuracy_list]\n",
        "\n",
        "# Number of models\n",
        "num_models = len(models)\n",
        "\n",
        "# Number of classes\n",
        "num_classes = len(accuracy[0])  # Assuming all accuracy lists have the same length\n",
        "\n",
        "# Set up the figure and axes\n",
        "fig, ax = plt.subplots(figsize=(10, 6))  # Adjust the figure size as needed\n",
        "\n",
        "# Width of each bar\n",
        "bar_width = 0.2\n",
        "\n",
        "# Indices for the x-axis ticks\n",
        "index = np.arange(num_models)\n",
        "\n",
        "# Color map for the bars\n",
        "color_map = plt.cm.get_cmap('Set3', num_classes)\n",
        "\n",
        "# Plot the bars\n",
        "for i in range(num_classes):\n",
        "    plt.bar(index + (i * bar_width), [accuracy[j][i] for j in range(num_models)], bar_width, label=f'Class {i + 1}', color=color_map(i))\n",
        "\n",
        "# Set up the x-axis and y-axis labels\n",
        "plt.xlabel('Models')\n",
        "plt.ylabel('Accuracy')\n",
        "\n",
        "# Set up the x-axis tick labels\n",
        "plt.xticks(index + (bar_width * (num_classes - 1)) / 2, models, rotation=45, ha='right')  # Adjust rotation and alignment\n",
        "\n",
        "# Add a legend\n",
        "plt.legend()\n",
        "\n",
        "# Show the plot\n",
        "plt.show()\n"
      ],
      "metadata": {
        "colab": {
          "base_uri": "https://localhost:8080/",
          "height": 632
        },
        "id": "1ldI_F-iUQzU",
        "outputId": "bd653b1c-1218-4772-b2ba-df233a97bad1"
      },
      "execution_count": 45,
      "outputs": [
        {
          "output_type": "display_data",
          "data": {
            "text/plain": [
              "<Figure size 1000x600 with 1 Axes>"
            ],
            "image/png": "[encoded data removed]"
          },
          "metadata": {}
        }
      ]
    },
    {
      "cell_type": "markdown",
      "source": [
        "## Finding the model with the best overall accuracy."
      ],
      "metadata": {
        "id": "MFAvI_OiVgD5"
      }
    },
    {
      "cell_type": "code",
      "source": [
        "import numpy as np\n",
        "\n",
        "# Evaluation metrics for each model\n",
        "models = ['Gaussian NB', 'SGD', 'XGBoost', 'Random Forest', 'Logistic Regression', 'Voting Classifier']\n",
        "accuracy = [tf_g_accuracy_list, tf_sgd_acc, tf_xg_acc, tf_random_forest_acc, tf_log_acc, tf_accuracy_list]\n",
        "\n",
        "# Calculate the average accuracy for each model\n",
        "avg_accuracy = [np.mean(acc) for acc in accuracy]\n",
        "\n",
        "# Find the index of the model with the highest average accuracy\n",
        "best_model_index = np.argmax(avg_accuracy)\n",
        "\n",
        "# Get the name of the model with the highest average accuracy\n",
        "best_model = models[best_model_index]\n",
        "\n",
        "# Print the best model and its average accuracy\n",
        "print(\"Overall Best Model:\")\n",
        "print(f\"Model Name: {best_model}\")\n",
        "print(f\"Average Accuracy: {avg_accuracy[best_model_index]:.2f}\")\n"
      ],
      "metadata": {
        "colab": {
          "base_uri": "https://localhost:8080/"
        },
        "id": "_Yc-3xtJUQYD",
        "outputId": "9eab30a6-1b91-46a1-cccc-c60363329d8e"
      },
      "execution_count": 46,
      "outputs": [
        {
          "output_type": "stream",
          "name": "stdout",
          "text": [
            "Overall Best Model:\n",
            "Model Name: Voting Classifier\n",
            "Average Accuracy: 0.85\n"
          ]
        }
      ]
    },
    {
      "cell_type": "markdown",
      "source": [
        "# Visualize Geometric Mean scores with TF-IDF vectorizer\n"
      ],
      "metadata": {
        "id": "XdqXQ3nvUQHB"
      }
    },
    {
      "cell_type": "code",
      "source": [
        "import numpy as np\n",
        "import matplotlib.pyplot as plt\n",
        "\n",
        "# Evaluation metrics for each model\n",
        "models = ['Gaussian NB', 'SGD', 'XGBoost', 'Random Forest', 'Logistic Regression', 'Voting Classifier']\n",
        "gmean = [tf_g_gmean_list, tf_sgd_gmean, tf_xg_gmean, tf_random_forest_gmean, tf_log_gmean, w2v_gmean_list]\n",
        "\n",
        "# Number of models\n",
        "num_models = len(models)\n",
        "\n",
        "# Number of classes\n",
        "num_classes = len(gmean[0])  # Assuming all gmean lists have the same length\n",
        "\n",
        "# Set up the figure and axes\n",
        "fig, ax = plt.subplots(figsize=(10, 6))  # Adjust the figure size as needed\n",
        "\n",
        "# Width of each bar\n",
        "bar_width = 0.2\n",
        "\n",
        "# Indices for the x-axis ticks\n",
        "index = np.arange(num_models)\n",
        "\n",
        "# Color map for the bars\n",
        "color_map = plt.cm.get_cmap('Set3', num_classes)\n",
        "\n",
        "# Plot the bars\n",
        "for i in range(num_classes):\n",
        "    plt.bar(index + (i * bar_width), [gmean[j][i] for j in range(num_models)], bar_width, label=f'Class {i + 1}', color=color_map(i))\n",
        "\n",
        "# Set up the x-axis and y-axis labels\n",
        "plt.xlabel('Models')\n",
        "plt.ylabel('Geometric Mean')\n",
        "\n",
        "# Set up the x-axis tick labels\n",
        "plt.xticks(index + (bar_width * (num_classes - 1)) / 2, models, rotation=45, ha='right')  # Adjust rotation and alignment\n",
        "\n",
        "# Add a legend\n",
        "plt.legend()\n",
        "\n",
        "# Show the plot\n",
        "plt.tight_layout()  # Adjust the layout\n",
        "plt.show()\n",
        "\n",
        "\n",
        "\n",
        "\n"
      ],
      "metadata": {
        "colab": {
          "base_uri": "https://localhost:8080/",
          "height": 607
        },
        "id": "DlWZyKP2VKfR",
        "outputId": "af79879b-8297-447a-ec11-025835394802"
      },
      "execution_count": 47,
      "outputs": [
        {
          "output_type": "display_data",
          "data": {
            "text/plain": [
              "<Figure size 1000x600 with 1 Axes>"
            ],
            "image/png": "[encoded data removed]"
          },
          "metadata": {}
        }
      ]
    },
    {
      "cell_type": "markdown",
      "source": [
        "## Find the model with the best overall geometric mean score"
      ],
      "metadata": {
        "id": "dbBB_1xTVrGJ"
      }
    },
    {
      "cell_type": "code",
      "source": [
        "import numpy as np\n",
        "\n",
        "# Evaluation metrics for each model\n",
        "models = ['Gaussian NB', 'SGD', 'XGBoost', 'Random Forest', 'Logistic Regression', 'Voting Classifier']\n",
        "gmean = [tf_g_gmean_list, tf_sgd_gmean, tf_xg_gmean, tf_random_forest_gmean, tf_log_gmean, w2v_gmean_list]\n",
        "\n",
        "# Calculate the average accuracy for each model\n",
        "avg_gmean = [np.mean(gm) for gm in gmean]\n",
        "\n",
        "# Find the index of the model with the highest average accuracy\n",
        "best_model_index = np.argmax(avg_gmean)\n",
        "\n",
        "# Get the name of the model with the highest average accuracy\n",
        "best_model = models[best_model_index]\n",
        "\n",
        "# Print the best model and its average accuracy\n",
        "print(\"Overall Best Model:\")\n",
        "print(f\"Model Name: {best_model}\")\n",
        "print(f\"Average Accuracy: {avg_gmean[best_model_index]:.2f}\")\n"
      ],
      "metadata": {
        "colab": {
          "base_uri": "https://localhost:8080/"
        },
        "id": "MsS337ZbVqXU",
        "outputId": "f9864909-8445-41d4-8543-1052e06a6db1"
      },
      "execution_count": 50,
      "outputs": [
        {
          "output_type": "stream",
          "name": "stdout",
          "text": [
            "Overall Best Model:\n",
            "Model Name: Logistic Regression\n",
            "Average Accuracy: 0.76\n"
          ]
        }
      ]
    },
    {
      "cell_type": "markdown",
      "source": [
        "# Visualizing the ROC-AUC metrics"
      ],
      "metadata": {
        "id": "s12yXESyWoB0"
      }
    },
    {
      "cell_type": "code",
      "source": [
        "import numpy as np\n",
        "import matplotlib.pyplot as plt\n",
        "\n",
        "# Evaluation metrics for each model\n",
        "models = ['Gaussian NB', 'SGD', 'XGBoost', 'Random Forest', 'Logistic Regression', 'Voting Classifier']\n",
        "roc_auc = [tf_g_roc_auc_list, tf_sgd_roc, tf_xg_roc, tf_random_forest_roc, tf_log_roc, tf_roc_auc_list]\n",
        "\n",
        "# Number of models\n",
        "num_models = len(models)\n",
        "\n",
        "# Number of classes\n",
        "num_classes = len(roc_auc[0])  # Assuming all roc_auc lists have the same length\n",
        "\n",
        "# Set up the figure and axes\n",
        "fig, ax = plt.subplots(figsize=(10, 6))  # Adjust the figure size as needed\n",
        "\n",
        "# Width of each bar\n",
        "bar_width = 0.2\n",
        "\n",
        "# Indices for the x-axis ticks\n",
        "index = np.arange(num_models)\n",
        "\n",
        "# Color map for the bars\n",
        "color_map = plt.cm.get_cmap('Set3', num_classes)\n",
        "\n",
        "# Plot the bars\n",
        "for i in range(num_classes):\n",
        "    plt.bar(index + (i * bar_width), [roc_auc[j][i] for j in range(num_models)], bar_width, label=f'Class {i + 1}', color=color_map(i))\n",
        "\n",
        "# Set up the x-axis and y-axis labels\n",
        "plt.xlabel('Models')\n",
        "plt.ylabel('ROC-AUC')\n",
        "\n",
        "# Set up the x-axis tick labels\n",
        "plt.xticks(index + (bar_width * (num_classes - 1)) / 2, models, rotation=45, ha='right')  # Adjust rotation and alignment\n",
        "\n",
        "# Add a legend\n",
        "plt.legend()\n",
        "\n",
        "# Show the plot\n",
        "plt.tight_layout()  # Adjust the layout\n",
        "plt.show()\n"
      ],
      "metadata": {
        "colab": {
          "base_uri": "https://localhost:8080/",
          "height": 607
        },
        "id": "Qab2CnQEWtuq",
        "outputId": "c2f8c453-9514-462a-827b-151a46735411"
      },
      "execution_count": 51,
      "outputs": [
        {
          "output_type": "display_data",
          "data": {
            "text/plain": [
              "<Figure size 1000x600 with 1 Axes>"
            ],
            "image/png": "[encoded data removed]"
          },
          "metadata": {}
        }
      ]
    },
    {
      "cell_type": "markdown",
      "source": [
        "## Find the model with the best overall ROC-AUC metrics\n",
        "\n"
      ],
      "metadata": {
        "id": "W6GQzVKcXA6R"
      }
    },
    {
      "cell_type": "code",
      "source": [
        "import numpy as np\n",
        "\n",
        "# Evaluation metrics for each model\n",
        "models = ['Gaussian NB', 'SGD', 'XGBoost', 'Random Forest', 'Logistic Regression', 'Voting Classifier']\n",
        "roc_auc = [tf_g_roc_auc_list, tf_sgd_roc, tf_xg_roc, tf_random_forest_roc, tf_log_roc, tf_roc_auc_list]\n",
        "\n",
        "# Calculate the average accuracy for each model\n",
        "average_roc_auc = [np.mean(roc) for roc in roc_auc]\n",
        "\n",
        "# Find the index of the model with the highest average accuracy\n",
        "best_model_index = np.argmax(average_roc_auc)\n",
        "\n",
        "# Get the name of the model with the highest average accuracy\n",
        "best_model = models[best_model_index]\n",
        "\n",
        "# Print the best model and its average accuracy\n",
        "print(\"Overall Best Model:\")\n",
        "print(f\"Model Name: {best_model}\")\n",
        "print(f\"Average Accuracy: {average_roc_auc[best_model_index]:.2f}\")\n"
      ],
      "metadata": {
        "colab": {
          "base_uri": "https://localhost:8080/"
        },
        "id": "g9lgt8t-XEWN",
        "outputId": "08af2629-0834-481c-a09f-ab43d51e52ec"
      },
      "execution_count": 54,
      "outputs": [
        {
          "output_type": "stream",
          "name": "stdout",
          "text": [
            "Overall Best Model:\n",
            "Model Name: Voting Classifier\n",
            "Average Accuracy: 0.90\n"
          ]
        }
      ]
    },
    {
      "cell_type": "markdown",
      "source": [
        "# Visualize the average precision metric with the TF-IDF vectorizer"
      ],
      "metadata": {
        "id": "c0BF5aWfXrLZ"
      }
    },
    {
      "cell_type": "code",
      "source": [
        "# Evaluation metrics for each model\n",
        "models = ['Gaussian NB', 'SGD', 'XGBoost', 'Random Forest', 'Logistic Regression', 'Voting Classifier']\n",
        "avg_precision = [tf_g_average_precision_list, tf_sgd_prec, tf_xg_prec, tf_random_forest_prec, tf_log_prec, tf_average_precision_list]\n",
        "\n",
        "# Number of models\n",
        "num_models = len(models)\n",
        "\n",
        "# Number of classes\n",
        "num_classes = len(avg_precision[0])  # Assuming all avg_precision lists have the same length\n",
        "\n",
        "# Set up the figure and axes\n",
        "fig, ax = plt.subplots(figsize=(10, 6))\n",
        "\n",
        "# Width of each bar\n",
        "bar_width = 0.2\n",
        "\n",
        "# Indices for the x-axis ticks\n",
        "index = np.arange(num_models)\n",
        "\n",
        "# Color map for the bars\n",
        "color_map = plt.cm.get_cmap('Set3', num_classes)\n",
        "\n",
        "# Plot the bars\n",
        "for i in range(num_classes):\n",
        "    plt.bar(index + (i * bar_width), [avg_precision[j][i] for j in range(num_models)], bar_width, label=f'Class {i + 1}', color=color_map(i))\n",
        "\n",
        "# Set up the x-axis and y-axis labels\n",
        "plt.xlabel('Models')\n",
        "plt.ylabel('Average Precision')\n",
        "\n",
        "# Set up the x-axis tick labels\n",
        "plt.xticks(index + (bar_width * (num_classes - 1)) / 2, models, rotation=45, ha='right')\n",
        "\n",
        "# Add a legend\n",
        "plt.legend()\n",
        "\n",
        "# Show the plot\n",
        "plt.show()\n"
      ],
      "metadata": {
        "colab": {
          "base_uri": "https://localhost:8080/",
          "height": 632
        },
        "id": "CwrioIRsXwZA",
        "outputId": "8769d7c2-b651-4b55-8f64-2c1538bf6223"
      },
      "execution_count": 55,
      "outputs": [
        {
          "output_type": "display_data",
          "data": {
            "text/plain": [
              "<Figure size 1000x600 with 1 Axes>"
            ],
            "image/png": "[encoded data removed]"
          },
          "metadata": {}
        }
      ]
    },
    {
      "cell_type": "markdown",
      "source": [
        "## Find the model with the best overall Average Precision\n"
      ],
      "metadata": {
        "id": "k8CQ8Hz_YHn1"
      }
    },
    {
      "cell_type": "code",
      "source": [
        "import numpy as np\n",
        "\n",
        "# Evaluation metrics for each model\n",
        "models = ['Gaussian NB', 'SGD', 'XGBoost', 'Random Forest', 'Logistic Regression', 'Voting Classifier']\n",
        "avg_precision = [tf_g_average_precision_list, tf_sgd_prec, tf_xg_prec, tf_random_forest_prec, tf_log_prec, tf_average_precision_list]\n",
        "\n",
        "# Calculate the average accuracy for each model\n",
        "average_precision = [np.mean(pre) for pre in avg_precision]\n",
        "\n",
        "# Find the index of the model with the highest average accuracy\n",
        "best_model_index = np.argmax(average_precision)\n",
        "\n",
        "# Get the name of the model with the highest average accuracy\n",
        "best_model = models[best_model_index]\n",
        "\n",
        "# Print the best model and its average accuracy\n",
        "print(\"Overall Best Model:\")\n",
        "print(f\"Model Name: {best_model}\")\n",
        "print(f\"Average Accuracy: {average_precision[best_model_index]:.2f}\")"
      ],
      "metadata": {
        "colab": {
          "base_uri": "https://localhost:8080/"
        },
        "id": "WinaOfATYMZ8",
        "outputId": "18e38b4d-52d2-4bf7-e238-087293a9c52a"
      },
      "execution_count": 58,
      "outputs": [
        {
          "output_type": "stream",
          "name": "stdout",
          "text": [
            "Overall Best Model:\n",
            "Model Name: Voting Classifier\n",
            "Average Accuracy: 0.79\n"
          ]
        }
      ]
    },
    {
      "cell_type": "markdown",
      "source": [
        "# Find the best model overall"
      ],
      "metadata": {
        "id": "jPO2_wVrYtbF"
      }
    },
    {
      "cell_type": "code",
      "source": [
        "# Combine the metrics into a single score (e.g., average or weighted average)\n",
        "combined_score = (np.mean(accuracy, axis=1) + np.mean(gmean, axis=1) + np.mean(roc_auc, axis=1) + np.mean(avg_precision, axis=1)) / 4\n",
        "\n",
        "# Find the index of the model with the highest combined score\n",
        "best_model_index = np.argmax(combined_score)\n",
        "\n",
        "# Get the name of the best model\n",
        "best_model = models[best_model_index]\n",
        "\n",
        "# Print the best model and its corresponding combined score\n",
        "print(f\"The best model overall based on combined metrics is: {best_model} (Combined Score: {combined_score[best_model_index]:.2f})\")\n"
      ],
      "metadata": {
        "colab": {
          "base_uri": "https://localhost:8080/"
        },
        "id": "5H6E1QJcYwuB",
        "outputId": "60ba9c4c-3414-44c4-fe00-a0024576ecbc"
      },
      "execution_count": 59,
      "outputs": [
        {
          "output_type": "stream",
          "name": "stdout",
          "text": [
            "The best model overall based on combined metrics is: Voting Classifier (Combined Score: 0.79)\n"
          ]
        }
      ]
    },
    {
      "cell_type": "markdown",
      "source": [
        "\n",
        "\n",
        "---\n",
        "\n",
        "So after testing the models the model that is best in all the metrics overall is the Voting Classifier using XGBoost classifier, SGD classifier and Logistic Regression using the TF-IDF vectorizer."
      ],
      "metadata": {
        "id": "TVzJ_TjYY_Cu"
      }
    }
  ],
  "metadata": {
    "colab": {
      "provenance": []
    },
    "kernelspec": {
      "display_name": "Python 3",
      "name": "python3"
    },
    "language_info": {
      "name": "python"
    }
  },
  "nbformat": 4,
  "nbformat_minor": 0
}